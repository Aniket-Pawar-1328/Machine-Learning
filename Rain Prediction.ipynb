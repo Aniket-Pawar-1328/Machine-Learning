{
 "cells": [
  {
   "cell_type": "markdown",
   "id": "0225bc5e-5678-4f4f-bac2-16b94f2579a6",
   "metadata": {},
   "source": [
    "# Rain Prediction"
   ]
  },
  {
   "cell_type": "markdown",
   "id": "537df459-a18d-4788-a786-0d9e97601d6b",
   "metadata": {},
   "source": [
    "## Importing Libraries"
   ]
  },
  {
   "cell_type": "code",
   "execution_count": 3,
   "id": "ffdf9889-5085-4c56-a886-87b9f6ce3c66",
   "metadata": {},
   "outputs": [],
   "source": [
    "import pandas as pd\n",
    "import numpy as np\n",
    "from matplotlib import pyplot as plt\n",
    "import seaborn as sns"
   ]
  },
  {
   "cell_type": "code",
   "execution_count": 4,
   "id": "114be9fc-6627-47cc-96db-8eaed30167b3",
   "metadata": {},
   "outputs": [],
   "source": [
    "import warnings\n",
    "warnings.filterwarnings('ignore')"
   ]
  },
  {
   "cell_type": "markdown",
   "id": "8167cf34-0884-4ec3-9a03-ab40bf90bddb",
   "metadata": {},
   "source": [
    "## Importing Dataset"
   ]
  },
  {
   "cell_type": "code",
   "execution_count": 6,
   "id": "90370c5c-4b52-41bc-a4db-43ba28416cbb",
   "metadata": {},
   "outputs": [
    {
     "data": {
      "text/html": [
       "<div>\n",
       "<style scoped>\n",
       "    .dataframe tbody tr th:only-of-type {\n",
       "        vertical-align: middle;\n",
       "    }\n",
       "\n",
       "    .dataframe tbody tr th {\n",
       "        vertical-align: top;\n",
       "    }\n",
       "\n",
       "    .dataframe thead th {\n",
       "        text-align: right;\n",
       "    }\n",
       "</style>\n",
       "<table border=\"1\" class=\"dataframe\">\n",
       "  <thead>\n",
       "    <tr style=\"text-align: right;\">\n",
       "      <th></th>\n",
       "      <th>Temperature</th>\n",
       "      <th>Humidity</th>\n",
       "      <th>Wind_Speed</th>\n",
       "      <th>Cloud_Cover</th>\n",
       "      <th>Pressure</th>\n",
       "      <th>Rain</th>\n",
       "    </tr>\n",
       "  </thead>\n",
       "  <tbody>\n",
       "    <tr>\n",
       "      <th>0</th>\n",
       "      <td>23.720338</td>\n",
       "      <td>89.592641</td>\n",
       "      <td>7.335604</td>\n",
       "      <td>50.501694</td>\n",
       "      <td>1032.378759</td>\n",
       "      <td>rain</td>\n",
       "    </tr>\n",
       "    <tr>\n",
       "      <th>1</th>\n",
       "      <td>27.879734</td>\n",
       "      <td>46.489704</td>\n",
       "      <td>5.952484</td>\n",
       "      <td>4.990053</td>\n",
       "      <td>992.614190</td>\n",
       "      <td>no rain</td>\n",
       "    </tr>\n",
       "    <tr>\n",
       "      <th>2</th>\n",
       "      <td>25.069084</td>\n",
       "      <td>83.072843</td>\n",
       "      <td>1.371992</td>\n",
       "      <td>14.855784</td>\n",
       "      <td>1007.231620</td>\n",
       "      <td>no rain</td>\n",
       "    </tr>\n",
       "    <tr>\n",
       "      <th>3</th>\n",
       "      <td>23.622080</td>\n",
       "      <td>74.367758</td>\n",
       "      <td>7.050551</td>\n",
       "      <td>67.255282</td>\n",
       "      <td>982.632013</td>\n",
       "      <td>rain</td>\n",
       "    </tr>\n",
       "    <tr>\n",
       "      <th>4</th>\n",
       "      <td>20.591370</td>\n",
       "      <td>96.858822</td>\n",
       "      <td>4.643921</td>\n",
       "      <td>47.676444</td>\n",
       "      <td>980.825142</td>\n",
       "      <td>no rain</td>\n",
       "    </tr>\n",
       "  </tbody>\n",
       "</table>\n",
       "</div>"
      ],
      "text/plain": [
       "   Temperature   Humidity  Wind_Speed  Cloud_Cover     Pressure     Rain\n",
       "0    23.720338  89.592641    7.335604    50.501694  1032.378759     rain\n",
       "1    27.879734  46.489704    5.952484     4.990053   992.614190  no rain\n",
       "2    25.069084  83.072843    1.371992    14.855784  1007.231620  no rain\n",
       "3    23.622080  74.367758    7.050551    67.255282   982.632013     rain\n",
       "4    20.591370  96.858822    4.643921    47.676444   980.825142  no rain"
      ]
     },
     "execution_count": 6,
     "metadata": {},
     "output_type": "execute_result"
    }
   ],
   "source": [
    "rain_data = pd.read_csv('Project-8-Rain Prediction.csv')\n",
    "rain_data.head()"
   ]
  },
  {
   "cell_type": "markdown",
   "id": "b03c5cd2-da59-4a89-a382-fc609bcfd103",
   "metadata": {},
   "source": [
    "## Basic Data Analysis"
   ]
  },
  {
   "cell_type": "markdown",
   "id": "b3344a1d-8401-4966-95a1-6d63efae7c00",
   "metadata": {},
   "source": [
    "### First Five Rows"
   ]
  },
  {
   "cell_type": "code",
   "execution_count": 9,
   "id": "33964766-411c-4158-b2ff-837da7693f10",
   "metadata": {},
   "outputs": [
    {
     "data": {
      "text/html": [
       "<div>\n",
       "<style scoped>\n",
       "    .dataframe tbody tr th:only-of-type {\n",
       "        vertical-align: middle;\n",
       "    }\n",
       "\n",
       "    .dataframe tbody tr th {\n",
       "        vertical-align: top;\n",
       "    }\n",
       "\n",
       "    .dataframe thead th {\n",
       "        text-align: right;\n",
       "    }\n",
       "</style>\n",
       "<table border=\"1\" class=\"dataframe\">\n",
       "  <thead>\n",
       "    <tr style=\"text-align: right;\">\n",
       "      <th></th>\n",
       "      <th>Temperature</th>\n",
       "      <th>Humidity</th>\n",
       "      <th>Wind_Speed</th>\n",
       "      <th>Cloud_Cover</th>\n",
       "      <th>Pressure</th>\n",
       "      <th>Rain</th>\n",
       "    </tr>\n",
       "  </thead>\n",
       "  <tbody>\n",
       "    <tr>\n",
       "      <th>0</th>\n",
       "      <td>23.720338</td>\n",
       "      <td>89.592641</td>\n",
       "      <td>7.335604</td>\n",
       "      <td>50.501694</td>\n",
       "      <td>1032.378759</td>\n",
       "      <td>rain</td>\n",
       "    </tr>\n",
       "    <tr>\n",
       "      <th>1</th>\n",
       "      <td>27.879734</td>\n",
       "      <td>46.489704</td>\n",
       "      <td>5.952484</td>\n",
       "      <td>4.990053</td>\n",
       "      <td>992.614190</td>\n",
       "      <td>no rain</td>\n",
       "    </tr>\n",
       "    <tr>\n",
       "      <th>2</th>\n",
       "      <td>25.069084</td>\n",
       "      <td>83.072843</td>\n",
       "      <td>1.371992</td>\n",
       "      <td>14.855784</td>\n",
       "      <td>1007.231620</td>\n",
       "      <td>no rain</td>\n",
       "    </tr>\n",
       "    <tr>\n",
       "      <th>3</th>\n",
       "      <td>23.622080</td>\n",
       "      <td>74.367758</td>\n",
       "      <td>7.050551</td>\n",
       "      <td>67.255282</td>\n",
       "      <td>982.632013</td>\n",
       "      <td>rain</td>\n",
       "    </tr>\n",
       "    <tr>\n",
       "      <th>4</th>\n",
       "      <td>20.591370</td>\n",
       "      <td>96.858822</td>\n",
       "      <td>4.643921</td>\n",
       "      <td>47.676444</td>\n",
       "      <td>980.825142</td>\n",
       "      <td>no rain</td>\n",
       "    </tr>\n",
       "  </tbody>\n",
       "</table>\n",
       "</div>"
      ],
      "text/plain": [
       "   Temperature   Humidity  Wind_Speed  Cloud_Cover     Pressure     Rain\n",
       "0    23.720338  89.592641    7.335604    50.501694  1032.378759     rain\n",
       "1    27.879734  46.489704    5.952484     4.990053   992.614190  no rain\n",
       "2    25.069084  83.072843    1.371992    14.855784  1007.231620  no rain\n",
       "3    23.622080  74.367758    7.050551    67.255282   982.632013     rain\n",
       "4    20.591370  96.858822    4.643921    47.676444   980.825142  no rain"
      ]
     },
     "execution_count": 9,
     "metadata": {},
     "output_type": "execute_result"
    }
   ],
   "source": [
    "rain_data.head()"
   ]
  },
  {
   "cell_type": "markdown",
   "id": "4010cd05-da9d-4989-81ab-54b6ede5b511",
   "metadata": {},
   "source": [
    "### Last Five Rows"
   ]
  },
  {
   "cell_type": "code",
   "execution_count": 11,
   "id": "4a2a0333-bbbe-4a65-b4cc-4857251fd487",
   "metadata": {},
   "outputs": [
    {
     "data": {
      "text/html": [
       "<div>\n",
       "<style scoped>\n",
       "    .dataframe tbody tr th:only-of-type {\n",
       "        vertical-align: middle;\n",
       "    }\n",
       "\n",
       "    .dataframe tbody tr th {\n",
       "        vertical-align: top;\n",
       "    }\n",
       "\n",
       "    .dataframe thead th {\n",
       "        text-align: right;\n",
       "    }\n",
       "</style>\n",
       "<table border=\"1\" class=\"dataframe\">\n",
       "  <thead>\n",
       "    <tr style=\"text-align: right;\">\n",
       "      <th></th>\n",
       "      <th>Temperature</th>\n",
       "      <th>Humidity</th>\n",
       "      <th>Wind_Speed</th>\n",
       "      <th>Cloud_Cover</th>\n",
       "      <th>Pressure</th>\n",
       "      <th>Rain</th>\n",
       "    </tr>\n",
       "  </thead>\n",
       "  <tbody>\n",
       "    <tr>\n",
       "      <th>2495</th>\n",
       "      <td>21.791602</td>\n",
       "      <td>45.270902</td>\n",
       "      <td>11.807192</td>\n",
       "      <td>55.044682</td>\n",
       "      <td>1017.686181</td>\n",
       "      <td>no rain</td>\n",
       "    </tr>\n",
       "    <tr>\n",
       "      <th>2496</th>\n",
       "      <td>27.558479</td>\n",
       "      <td>46.481744</td>\n",
       "      <td>10.884915</td>\n",
       "      <td>39.715133</td>\n",
       "      <td>1008.590961</td>\n",
       "      <td>no rain</td>\n",
       "    </tr>\n",
       "    <tr>\n",
       "      <th>2497</th>\n",
       "      <td>28.108274</td>\n",
       "      <td>43.817178</td>\n",
       "      <td>2.897128</td>\n",
       "      <td>75.842952</td>\n",
       "      <td>999.119187</td>\n",
       "      <td>no rain</td>\n",
       "    </tr>\n",
       "    <tr>\n",
       "      <th>2498</th>\n",
       "      <td>14.789275</td>\n",
       "      <td>57.908105</td>\n",
       "      <td>2.374717</td>\n",
       "      <td>2.378743</td>\n",
       "      <td>1046.501875</td>\n",
       "      <td>no rain</td>\n",
       "    </tr>\n",
       "    <tr>\n",
       "      <th>2499</th>\n",
       "      <td>26.554356</td>\n",
       "      <td>97.101517</td>\n",
       "      <td>18.563084</td>\n",
       "      <td>81.357508</td>\n",
       "      <td>1001.729176</td>\n",
       "      <td>no rain</td>\n",
       "    </tr>\n",
       "  </tbody>\n",
       "</table>\n",
       "</div>"
      ],
      "text/plain": [
       "      Temperature   Humidity  Wind_Speed  Cloud_Cover     Pressure     Rain\n",
       "2495    21.791602  45.270902   11.807192    55.044682  1017.686181  no rain\n",
       "2496    27.558479  46.481744   10.884915    39.715133  1008.590961  no rain\n",
       "2497    28.108274  43.817178    2.897128    75.842952   999.119187  no rain\n",
       "2498    14.789275  57.908105    2.374717     2.378743  1046.501875  no rain\n",
       "2499    26.554356  97.101517   18.563084    81.357508  1001.729176  no rain"
      ]
     },
     "execution_count": 11,
     "metadata": {},
     "output_type": "execute_result"
    }
   ],
   "source": [
    "rain_data.tail()"
   ]
  },
  {
   "cell_type": "markdown",
   "id": "ff2a6bcb-154e-462e-9c9b-be94edffccad",
   "metadata": {},
   "source": [
    "### Total Number of Rows and Columns in dataset"
   ]
  },
  {
   "cell_type": "code",
   "execution_count": 13,
   "id": "ab717e2d-9808-41a6-bc8e-adfbd6ca8be8",
   "metadata": {},
   "outputs": [
    {
     "data": {
      "text/plain": [
       "(2500, 6)"
      ]
     },
     "execution_count": 13,
     "metadata": {},
     "output_type": "execute_result"
    }
   ],
   "source": [
    "rain_data.shape"
   ]
  },
  {
   "cell_type": "code",
   "execution_count": 14,
   "id": "05314ac0-33fe-4d77-9bfe-2e5388d24e91",
   "metadata": {},
   "outputs": [
    {
     "name": "stdout",
     "output_type": "stream",
     "text": [
      "Number of Rows in datasets = 2500\n",
      "Number of Columns in datasets = 6\n"
     ]
    }
   ],
   "source": [
    "print(f'Number of Rows in datasets = {rain_data.shape[0]}')\n",
    "print(f'Number of Columns in datasets = {rain_data.shape[1]}')"
   ]
  },
  {
   "cell_type": "markdown",
   "id": "49d7c520-ce4d-4f6e-b475-22ddec526196",
   "metadata": {},
   "source": [
    "### List of columns"
   ]
  },
  {
   "cell_type": "code",
   "execution_count": 16,
   "id": "d8d61c54-2ad1-4fe1-acba-09afcb404578",
   "metadata": {},
   "outputs": [
    {
     "data": {
      "text/plain": [
       "Index(['Temperature', 'Humidity', 'Wind_Speed', 'Cloud_Cover', 'Pressure',\n",
       "       'Rain'],\n",
       "      dtype='object')"
      ]
     },
     "execution_count": 16,
     "metadata": {},
     "output_type": "execute_result"
    }
   ],
   "source": [
    "rain_data.columns"
   ]
  },
  {
   "cell_type": "markdown",
   "id": "6a4cfbab-f499-40a4-9d1e-f083ecac7656",
   "metadata": {},
   "source": [
    "### Information about the data "
   ]
  },
  {
   "cell_type": "code",
   "execution_count": 18,
   "id": "d08d5792-3bc5-43e9-a1a9-0b62a35b11c7",
   "metadata": {},
   "outputs": [
    {
     "name": "stdout",
     "output_type": "stream",
     "text": [
      "<class 'pandas.core.frame.DataFrame'>\n",
      "RangeIndex: 2500 entries, 0 to 2499\n",
      "Data columns (total 6 columns):\n",
      " #   Column       Non-Null Count  Dtype  \n",
      "---  ------       --------------  -----  \n",
      " 0   Temperature  2500 non-null   float64\n",
      " 1   Humidity     2500 non-null   float64\n",
      " 2   Wind_Speed   2500 non-null   float64\n",
      " 3   Cloud_Cover  2500 non-null   float64\n",
      " 4   Pressure     2500 non-null   float64\n",
      " 5   Rain         2500 non-null   object \n",
      "dtypes: float64(5), object(1)\n",
      "memory usage: 117.3+ KB\n"
     ]
    }
   ],
   "source": [
    "rain_data.info()"
   ]
  },
  {
   "cell_type": "markdown",
   "id": "e6d404f2-198f-4700-92b6-5c334a5835fa",
   "metadata": {},
   "source": [
    "## Data Cleaning and Transformation"
   ]
  },
  {
   "cell_type": "markdown",
   "id": "05a6dbcd-c6d9-445f-a8e2-519198db4460",
   "metadata": {},
   "source": [
    "### Checking and removing duplicates"
   ]
  },
  {
   "cell_type": "code",
   "execution_count": 21,
   "id": "17544f83-bf18-497e-bab7-623ceb5902f9",
   "metadata": {},
   "outputs": [
    {
     "data": {
      "text/plain": [
       "False"
      ]
     },
     "execution_count": 21,
     "metadata": {},
     "output_type": "execute_result"
    }
   ],
   "source": [
    "rain_data.duplicated().any()"
   ]
  },
  {
   "cell_type": "markdown",
   "id": "6cd299b0-95a6-4177-bcd6-eb2df9254e35",
   "metadata": {},
   "source": [
    "### Checking Null Values"
   ]
  },
  {
   "cell_type": "code",
   "execution_count": 23,
   "id": "63ea45e8-a6b8-4c2e-8ee1-4e13e7c78c0b",
   "metadata": {},
   "outputs": [
    {
     "data": {
      "text/plain": [
       "Temperature    0\n",
       "Humidity       0\n",
       "Wind_Speed     0\n",
       "Cloud_Cover    0\n",
       "Pressure       0\n",
       "Rain           0\n",
       "dtype: int64"
      ]
     },
     "execution_count": 23,
     "metadata": {},
     "output_type": "execute_result"
    }
   ],
   "source": [
    "rain_data.isna().sum()"
   ]
  },
  {
   "cell_type": "markdown",
   "id": "f0af0835-52c4-41c1-a035-212f34fa59f2",
   "metadata": {},
   "source": [
    "## Exploratory Data Analysis (EDA) "
   ]
  },
  {
   "cell_type": "markdown",
   "id": "f09f80cf-1346-401a-b106-970d6db48a9e",
   "metadata": {},
   "source": [
    "### Statistics"
   ]
  },
  {
   "cell_type": "markdown",
   "id": "d3f6161d-0406-44ac-9eea-a10bf073f0c6",
   "metadata": {},
   "source": [
    "#### Basic Statistics of Numeric Features (mean, median, max, min, etc…) "
   ]
  },
  {
   "cell_type": "code",
   "execution_count": 27,
   "id": "5d6e0964-7511-473a-b77d-16b8fc2d8a21",
   "metadata": {},
   "outputs": [
    {
     "data": {
      "text/html": [
       "<div>\n",
       "<style scoped>\n",
       "    .dataframe tbody tr th:only-of-type {\n",
       "        vertical-align: middle;\n",
       "    }\n",
       "\n",
       "    .dataframe tbody tr th {\n",
       "        vertical-align: top;\n",
       "    }\n",
       "\n",
       "    .dataframe thead th {\n",
       "        text-align: right;\n",
       "    }\n",
       "</style>\n",
       "<table border=\"1\" class=\"dataframe\">\n",
       "  <thead>\n",
       "    <tr style=\"text-align: right;\">\n",
       "      <th></th>\n",
       "      <th>Temperature</th>\n",
       "      <th>Humidity</th>\n",
       "      <th>Wind_Speed</th>\n",
       "      <th>Cloud_Cover</th>\n",
       "      <th>Pressure</th>\n",
       "    </tr>\n",
       "  </thead>\n",
       "  <tbody>\n",
       "    <tr>\n",
       "      <th>count</th>\n",
       "      <td>2500.000000</td>\n",
       "      <td>2500.000000</td>\n",
       "      <td>2500.000000</td>\n",
       "      <td>2500.000000</td>\n",
       "      <td>2500.000000</td>\n",
       "    </tr>\n",
       "    <tr>\n",
       "      <th>mean</th>\n",
       "      <td>22.581725</td>\n",
       "      <td>64.347094</td>\n",
       "      <td>9.906255</td>\n",
       "      <td>49.658104</td>\n",
       "      <td>1014.312336</td>\n",
       "    </tr>\n",
       "    <tr>\n",
       "      <th>std</th>\n",
       "      <td>7.326996</td>\n",
       "      <td>19.954739</td>\n",
       "      <td>5.780316</td>\n",
       "      <td>29.123104</td>\n",
       "      <td>20.196433</td>\n",
       "    </tr>\n",
       "    <tr>\n",
       "      <th>min</th>\n",
       "      <td>10.001842</td>\n",
       "      <td>30.005071</td>\n",
       "      <td>0.009819</td>\n",
       "      <td>0.015038</td>\n",
       "      <td>980.014486</td>\n",
       "    </tr>\n",
       "    <tr>\n",
       "      <th>25%</th>\n",
       "      <td>16.359398</td>\n",
       "      <td>47.339815</td>\n",
       "      <td>4.761909</td>\n",
       "      <td>23.900016</td>\n",
       "      <td>996.938630</td>\n",
       "    </tr>\n",
       "    <tr>\n",
       "      <th>50%</th>\n",
       "      <td>22.536448</td>\n",
       "      <td>63.920797</td>\n",
       "      <td>9.908572</td>\n",
       "      <td>49.488284</td>\n",
       "      <td>1013.433035</td>\n",
       "    </tr>\n",
       "    <tr>\n",
       "      <th>75%</th>\n",
       "      <td>28.976476</td>\n",
       "      <td>81.561021</td>\n",
       "      <td>14.948408</td>\n",
       "      <td>75.324140</td>\n",
       "      <td>1031.735067</td>\n",
       "    </tr>\n",
       "    <tr>\n",
       "      <th>max</th>\n",
       "      <td>34.995214</td>\n",
       "      <td>99.997481</td>\n",
       "      <td>19.999132</td>\n",
       "      <td>99.997795</td>\n",
       "      <td>1049.985593</td>\n",
       "    </tr>\n",
       "  </tbody>\n",
       "</table>\n",
       "</div>"
      ],
      "text/plain": [
       "       Temperature     Humidity   Wind_Speed  Cloud_Cover     Pressure\n",
       "count  2500.000000  2500.000000  2500.000000  2500.000000  2500.000000\n",
       "mean     22.581725    64.347094     9.906255    49.658104  1014.312336\n",
       "std       7.326996    19.954739     5.780316    29.123104    20.196433\n",
       "min      10.001842    30.005071     0.009819     0.015038   980.014486\n",
       "25%      16.359398    47.339815     4.761909    23.900016   996.938630\n",
       "50%      22.536448    63.920797     9.908572    49.488284  1013.433035\n",
       "75%      28.976476    81.561021    14.948408    75.324140  1031.735067\n",
       "max      34.995214    99.997481    19.999132    99.997795  1049.985593"
      ]
     },
     "execution_count": 27,
     "metadata": {},
     "output_type": "execute_result"
    }
   ],
   "source": [
    "rain_data.describe()"
   ]
  },
  {
   "cell_type": "code",
   "execution_count": 28,
   "id": "3a82fa06-ec5a-454e-aa09-62e4132c918a",
   "metadata": {},
   "outputs": [
    {
     "data": {
      "text/html": [
       "<div>\n",
       "<style scoped>\n",
       "    .dataframe tbody tr th:only-of-type {\n",
       "        vertical-align: middle;\n",
       "    }\n",
       "\n",
       "    .dataframe tbody tr th {\n",
       "        vertical-align: top;\n",
       "    }\n",
       "\n",
       "    .dataframe thead th {\n",
       "        text-align: right;\n",
       "    }\n",
       "</style>\n",
       "<table border=\"1\" class=\"dataframe\">\n",
       "  <thead>\n",
       "    <tr style=\"text-align: right;\">\n",
       "      <th></th>\n",
       "      <th>Rain</th>\n",
       "    </tr>\n",
       "  </thead>\n",
       "  <tbody>\n",
       "    <tr>\n",
       "      <th>count</th>\n",
       "      <td>2500</td>\n",
       "    </tr>\n",
       "    <tr>\n",
       "      <th>unique</th>\n",
       "      <td>2</td>\n",
       "    </tr>\n",
       "    <tr>\n",
       "      <th>top</th>\n",
       "      <td>no rain</td>\n",
       "    </tr>\n",
       "    <tr>\n",
       "      <th>freq</th>\n",
       "      <td>2186</td>\n",
       "    </tr>\n",
       "  </tbody>\n",
       "</table>\n",
       "</div>"
      ],
      "text/plain": [
       "           Rain\n",
       "count      2500\n",
       "unique        2\n",
       "top     no rain\n",
       "freq       2186"
      ]
     },
     "execution_count": 28,
     "metadata": {},
     "output_type": "execute_result"
    }
   ],
   "source": [
    "rain_data.describe(include='object')"
   ]
  },
  {
   "cell_type": "code",
   "execution_count": 29,
   "id": "df95d23f-01f5-41e0-a963-2215f0c5693d",
   "metadata": {},
   "outputs": [
    {
     "name": "stdout",
     "output_type": "stream",
     "text": [
      "Numerical columns in the data : Index(['Temperature', 'Humidity', 'Wind_Speed', 'Cloud_Cover', 'Pressure'], dtype='object')\n"
     ]
    }
   ],
   "source": [
    "num_col = rain_data.select_dtypes(include=\"number\").columns\n",
    "print(f\"Numerical columns in the data : {num_col}\")"
   ]
  },
  {
   "cell_type": "markdown",
   "id": "2d6c6a99-ff95-486c-bd35-f4c9a38cc49e",
   "metadata": {},
   "source": [
    "#### Correlation matrix"
   ]
  },
  {
   "cell_type": "code",
   "execution_count": 31,
   "id": "43b52ffb-8d2c-4250-bd00-bccc4c36dbec",
   "metadata": {},
   "outputs": [
    {
     "data": {
      "text/html": [
       "<div>\n",
       "<style scoped>\n",
       "    .dataframe tbody tr th:only-of-type {\n",
       "        vertical-align: middle;\n",
       "    }\n",
       "\n",
       "    .dataframe tbody tr th {\n",
       "        vertical-align: top;\n",
       "    }\n",
       "\n",
       "    .dataframe thead th {\n",
       "        text-align: right;\n",
       "    }\n",
       "</style>\n",
       "<table border=\"1\" class=\"dataframe\">\n",
       "  <thead>\n",
       "    <tr style=\"text-align: right;\">\n",
       "      <th></th>\n",
       "      <th>Temperature</th>\n",
       "      <th>Humidity</th>\n",
       "      <th>Wind_Speed</th>\n",
       "      <th>Cloud_Cover</th>\n",
       "      <th>Pressure</th>\n",
       "    </tr>\n",
       "  </thead>\n",
       "  <tbody>\n",
       "    <tr>\n",
       "      <th>Temperature</th>\n",
       "      <td>1.000000</td>\n",
       "      <td>-0.014119</td>\n",
       "      <td>-0.004957</td>\n",
       "      <td>0.006632</td>\n",
       "      <td>-0.007489</td>\n",
       "    </tr>\n",
       "    <tr>\n",
       "      <th>Humidity</th>\n",
       "      <td>-0.014119</td>\n",
       "      <td>1.000000</td>\n",
       "      <td>0.003816</td>\n",
       "      <td>0.007244</td>\n",
       "      <td>-0.032089</td>\n",
       "    </tr>\n",
       "    <tr>\n",
       "      <th>Wind_Speed</th>\n",
       "      <td>-0.004957</td>\n",
       "      <td>0.003816</td>\n",
       "      <td>1.000000</td>\n",
       "      <td>-0.000405</td>\n",
       "      <td>0.018772</td>\n",
       "    </tr>\n",
       "    <tr>\n",
       "      <th>Cloud_Cover</th>\n",
       "      <td>0.006632</td>\n",
       "      <td>0.007244</td>\n",
       "      <td>-0.000405</td>\n",
       "      <td>1.000000</td>\n",
       "      <td>0.023100</td>\n",
       "    </tr>\n",
       "    <tr>\n",
       "      <th>Pressure</th>\n",
       "      <td>-0.007489</td>\n",
       "      <td>-0.032089</td>\n",
       "      <td>0.018772</td>\n",
       "      <td>0.023100</td>\n",
       "      <td>1.000000</td>\n",
       "    </tr>\n",
       "  </tbody>\n",
       "</table>\n",
       "</div>"
      ],
      "text/plain": [
       "             Temperature  Humidity  Wind_Speed  Cloud_Cover  Pressure\n",
       "Temperature     1.000000 -0.014119   -0.004957     0.006632 -0.007489\n",
       "Humidity       -0.014119  1.000000    0.003816     0.007244 -0.032089\n",
       "Wind_Speed     -0.004957  0.003816    1.000000    -0.000405  0.018772\n",
       "Cloud_Cover     0.006632  0.007244   -0.000405     1.000000  0.023100\n",
       "Pressure       -0.007489 -0.032089    0.018772     0.023100  1.000000"
      ]
     },
     "execution_count": 31,
     "metadata": {},
     "output_type": "execute_result"
    }
   ],
   "source": [
    "corr_data = rain_data[num_col].corr()\n",
    "corr_data"
   ]
  },
  {
   "cell_type": "markdown",
   "id": "2d93fcd7-b285-4742-96bd-743a5ff3dbcd",
   "metadata": {},
   "source": [
    "### Data Visualization"
   ]
  },
  {
   "cell_type": "markdown",
   "id": "944aebea-6c3a-47c0-a803-0ac8e831d440",
   "metadata": {},
   "source": [
    "#### Histogram"
   ]
  },
  {
   "cell_type": "code",
   "execution_count": 34,
   "id": "5ce6484a-7782-4bf1-ad43-b956ef75cfd6",
   "metadata": {},
   "outputs": [
    {
     "data": {
      "image/png": "[encoded data removed]",
      "text/plain": [
       "<Figure size 2000x2000 with 6 Axes>"
      ]
     },
     "metadata": {},
     "output_type": "display_data"
    }
   ],
   "source": [
    "rain_data.hist(figsize=(20,20), color = 'green',bins=20)\n",
    "plt.show()"
   ]
  },
  {
   "cell_type": "markdown",
   "id": "12916a53-93d0-4409-83b5-694dbd925c61",
   "metadata": {},
   "source": [
    "#### Box Plot"
   ]
  },
  {
   "cell_type": "code",
   "execution_count": 36,
   "id": "ff9f9b44-9e1e-4f21-aadf-bff2930f4918",
   "metadata": {},
   "outputs": [
    {
     "data": {
      "image/png": "[encoded data removed]",
      "text/plain": [
       "<Figure size 640x480 with 1 Axes>"
      ]
     },
     "metadata": {},
     "output_type": "display_data"
    },
    {
     "data": {
      "image/png": "[encoded data removed]",
      "text/plain": [
       "<Figure size 640x480 with 1 Axes>"
      ]
     },
     "metadata": {},
     "output_type": "display_data"
    },
    {
     "data": {
      "image/png": "[encoded data removed]",
      "text/plain": [
       "<Figure size 640x480 with 1 Axes>"
      ]
     },
     "metadata": {},
     "output_type": "display_data"
    },
    {
     "data": {
      "image/png": "[encoded data removed]",
      "text/plain": [
       "<Figure size 640x480 with 1 Axes>"
      ]
     },
     "metadata": {},
     "output_type": "display_data"
    },
    {
     "data": {
      "image/png": "[encoded data removed]",
      "text/plain": [
       "<Figure size 640x480 with 1 Axes>"
      ]
     },
     "metadata": {},
     "output_type": "display_data"
    }
   ],
   "source": [
    "for col in num_col:\n",
    "    rain_data[col].plot(kind = 'box')\n",
    "    plt.show()"
   ]
  },
  {
   "cell_type": "markdown",
   "id": "a65ffb0a-0ce6-4241-9425-87fa5c62372d",
   "metadata": {},
   "source": [
    "#### Scatter Plot"
   ]
  },
  {
   "cell_type": "code",
   "execution_count": 38,
   "id": "91245225-9bfd-40a5-9d93-04b16388ea7d",
   "metadata": {},
   "outputs": [
    {
     "data": {
      "image/png": "[encoded data removed]",
      "text/plain": [
       "<Figure size 1500x1500 with 5 Axes>"
      ]
     },
     "metadata": {},
     "output_type": "display_data"
    }
   ],
   "source": [
    "plt.figure(figsize=(15,15))\n",
    "for i, feature in enumerate(num_col, 1):\n",
    "    plt.subplot(5, 3, i)\n",
    "    sns.scatterplot(data=rain_data, x=feature, y='Rain', alpha=0.7)\n",
    "    plt.title(f'Revenue vs {feature}')\n",
    "    plt.xlabel(feature)\n",
    "    plt.ylabel('Rain')\n",
    "\n",
    "plt.tight_layout()\n",
    "plt.show()"
   ]
  },
  {
   "cell_type": "markdown",
   "id": "768d3823-b7bf-4161-99d6-236e0963f1a6",
   "metadata": {},
   "source": [
    "#### Bar chart"
   ]
  },
  {
   "cell_type": "code",
   "execution_count": 40,
   "id": "196a8c51-4d39-4a0d-b6ed-5e2684d9e8e8",
   "metadata": {},
   "outputs": [
    {
     "data": {
      "image/png": "[encoded data removed]",
      "text/plain": [
       "<Figure size 640x480 with 1 Axes>"
      ]
     },
     "metadata": {},
     "output_type": "display_data"
    }
   ],
   "source": [
    "ax = rain_data['Rain'].value_counts().plot(kind = 'bar')\n",
    "for i in ax.containers:\n",
    "        ax.bar_label(i)\n",
    "plt.show()"
   ]
  },
  {
   "cell_type": "markdown",
   "id": "34bd5e01-9352-4504-ac46-4d527485932a",
   "metadata": {},
   "source": [
    "#### Pie chart"
   ]
  },
  {
   "cell_type": "code",
   "execution_count": 42,
   "id": "81c55dea-a6a4-4ab1-b2fd-af92fe56d694",
   "metadata": {},
   "outputs": [
    {
     "data": {
      "image/png": "[encoded data removed]",
      "text/plain": [
       "<Figure size 640x480 with 1 Axes>"
      ]
     },
     "metadata": {},
     "output_type": "display_data"
    }
   ],
   "source": [
    "rain_data['Rain'].value_counts().plot(kind = 'pie', autopct = '%1.1f%%')\n",
    "plt.show()"
   ]
  },
  {
   "cell_type": "markdown",
   "id": "a49511c5-876e-4e67-bf80-4b0ef4c0647b",
   "metadata": {},
   "source": [
    "#### Heatmap"
   ]
  },
  {
   "cell_type": "code",
   "execution_count": 44,
   "id": "87573311-0999-44a5-8e37-6a8cdfac8bf3",
   "metadata": {},
   "outputs": [
    {
     "data": {
      "image/png": "[encoded data removed]",
      "text/plain": [
       "<Figure size 640x480 with 2 Axes>"
      ]
     },
     "metadata": {},
     "output_type": "display_data"
    }
   ],
   "source": [
    "sns.heatmap(corr_data, annot=True, cmap=\"Blues\")\n",
    "plt.show()"
   ]
  },
  {
   "cell_type": "markdown",
   "id": "9d67ee14-49b0-47a5-8453-08347dd6a24d",
   "metadata": {},
   "source": [
    "##  Feature Engineering / Data preprocessing "
   ]
  },
  {
   "cell_type": "code",
   "execution_count": 46,
   "id": "322bd243-f155-436b-aa83-74d1dbd65531",
   "metadata": {},
   "outputs": [],
   "source": [
    "from sklearn.preprocessing import LabelEncoder\n",
    "le = LabelEncoder()"
   ]
  },
  {
   "cell_type": "code",
   "execution_count": 47,
   "id": "82e280f2-34b5-4c00-a664-5d6a6715cf5b",
   "metadata": {},
   "outputs": [
    {
     "data": {
      "text/html": [
       "<div>\n",
       "<style scoped>\n",
       "    .dataframe tbody tr th:only-of-type {\n",
       "        vertical-align: middle;\n",
       "    }\n",
       "\n",
       "    .dataframe tbody tr th {\n",
       "        vertical-align: top;\n",
       "    }\n",
       "\n",
       "    .dataframe thead th {\n",
       "        text-align: right;\n",
       "    }\n",
       "</style>\n",
       "<table border=\"1\" class=\"dataframe\">\n",
       "  <thead>\n",
       "    <tr style=\"text-align: right;\">\n",
       "      <th></th>\n",
       "      <th>Temperature</th>\n",
       "      <th>Humidity</th>\n",
       "      <th>Wind_Speed</th>\n",
       "      <th>Cloud_Cover</th>\n",
       "      <th>Pressure</th>\n",
       "      <th>Rain</th>\n",
       "    </tr>\n",
       "  </thead>\n",
       "  <tbody>\n",
       "    <tr>\n",
       "      <th>0</th>\n",
       "      <td>23.720338</td>\n",
       "      <td>89.592641</td>\n",
       "      <td>7.335604</td>\n",
       "      <td>50.501694</td>\n",
       "      <td>1032.378759</td>\n",
       "      <td>rain</td>\n",
       "    </tr>\n",
       "    <tr>\n",
       "      <th>1</th>\n",
       "      <td>27.879734</td>\n",
       "      <td>46.489704</td>\n",
       "      <td>5.952484</td>\n",
       "      <td>4.990053</td>\n",
       "      <td>992.614190</td>\n",
       "      <td>no rain</td>\n",
       "    </tr>\n",
       "    <tr>\n",
       "      <th>2</th>\n",
       "      <td>25.069084</td>\n",
       "      <td>83.072843</td>\n",
       "      <td>1.371992</td>\n",
       "      <td>14.855784</td>\n",
       "      <td>1007.231620</td>\n",
       "      <td>no rain</td>\n",
       "    </tr>\n",
       "    <tr>\n",
       "      <th>3</th>\n",
       "      <td>23.622080</td>\n",
       "      <td>74.367758</td>\n",
       "      <td>7.050551</td>\n",
       "      <td>67.255282</td>\n",
       "      <td>982.632013</td>\n",
       "      <td>rain</td>\n",
       "    </tr>\n",
       "    <tr>\n",
       "      <th>4</th>\n",
       "      <td>20.591370</td>\n",
       "      <td>96.858822</td>\n",
       "      <td>4.643921</td>\n",
       "      <td>47.676444</td>\n",
       "      <td>980.825142</td>\n",
       "      <td>no rain</td>\n",
       "    </tr>\n",
       "  </tbody>\n",
       "</table>\n",
       "</div>"
      ],
      "text/plain": [
       "   Temperature   Humidity  Wind_Speed  Cloud_Cover     Pressure     Rain\n",
       "0    23.720338  89.592641    7.335604    50.501694  1032.378759     rain\n",
       "1    27.879734  46.489704    5.952484     4.990053   992.614190  no rain\n",
       "2    25.069084  83.072843    1.371992    14.855784  1007.231620  no rain\n",
       "3    23.622080  74.367758    7.050551    67.255282   982.632013     rain\n",
       "4    20.591370  96.858822    4.643921    47.676444   980.825142  no rain"
      ]
     },
     "execution_count": 47,
     "metadata": {},
     "output_type": "execute_result"
    }
   ],
   "source": [
    "rain_data1 = rain_data.copy()\n",
    "rain_data1.head()"
   ]
  },
  {
   "cell_type": "code",
   "execution_count": 48,
   "id": "15e8e173-6c6c-4af5-bca8-863af54c1814",
   "metadata": {},
   "outputs": [
    {
     "data": {
      "text/html": [
       "<div>\n",
       "<style scoped>\n",
       "    .dataframe tbody tr th:only-of-type {\n",
       "        vertical-align: middle;\n",
       "    }\n",
       "\n",
       "    .dataframe tbody tr th {\n",
       "        vertical-align: top;\n",
       "    }\n",
       "\n",
       "    .dataframe thead th {\n",
       "        text-align: right;\n",
       "    }\n",
       "</style>\n",
       "<table border=\"1\" class=\"dataframe\">\n",
       "  <thead>\n",
       "    <tr style=\"text-align: right;\">\n",
       "      <th></th>\n",
       "      <th>Temperature</th>\n",
       "      <th>Humidity</th>\n",
       "      <th>Wind_Speed</th>\n",
       "      <th>Cloud_Cover</th>\n",
       "      <th>Pressure</th>\n",
       "      <th>Rain</th>\n",
       "    </tr>\n",
       "  </thead>\n",
       "  <tbody>\n",
       "    <tr>\n",
       "      <th>0</th>\n",
       "      <td>23.720338</td>\n",
       "      <td>89.592641</td>\n",
       "      <td>7.335604</td>\n",
       "      <td>50.501694</td>\n",
       "      <td>1032.378759</td>\n",
       "      <td>1</td>\n",
       "    </tr>\n",
       "    <tr>\n",
       "      <th>1</th>\n",
       "      <td>27.879734</td>\n",
       "      <td>46.489704</td>\n",
       "      <td>5.952484</td>\n",
       "      <td>4.990053</td>\n",
       "      <td>992.614190</td>\n",
       "      <td>0</td>\n",
       "    </tr>\n",
       "    <tr>\n",
       "      <th>2</th>\n",
       "      <td>25.069084</td>\n",
       "      <td>83.072843</td>\n",
       "      <td>1.371992</td>\n",
       "      <td>14.855784</td>\n",
       "      <td>1007.231620</td>\n",
       "      <td>0</td>\n",
       "    </tr>\n",
       "    <tr>\n",
       "      <th>3</th>\n",
       "      <td>23.622080</td>\n",
       "      <td>74.367758</td>\n",
       "      <td>7.050551</td>\n",
       "      <td>67.255282</td>\n",
       "      <td>982.632013</td>\n",
       "      <td>1</td>\n",
       "    </tr>\n",
       "    <tr>\n",
       "      <th>4</th>\n",
       "      <td>20.591370</td>\n",
       "      <td>96.858822</td>\n",
       "      <td>4.643921</td>\n",
       "      <td>47.676444</td>\n",
       "      <td>980.825142</td>\n",
       "      <td>0</td>\n",
       "    </tr>\n",
       "  </tbody>\n",
       "</table>\n",
       "</div>"
      ],
      "text/plain": [
       "   Temperature   Humidity  Wind_Speed  Cloud_Cover     Pressure  Rain\n",
       "0    23.720338  89.592641    7.335604    50.501694  1032.378759     1\n",
       "1    27.879734  46.489704    5.952484     4.990053   992.614190     0\n",
       "2    25.069084  83.072843    1.371992    14.855784  1007.231620     0\n",
       "3    23.622080  74.367758    7.050551    67.255282   982.632013     1\n",
       "4    20.591370  96.858822    4.643921    47.676444   980.825142     0"
      ]
     },
     "execution_count": 48,
     "metadata": {},
     "output_type": "execute_result"
    }
   ],
   "source": [
    "rain_data1['Rain'] = le.fit_transform(rain_data1['Rain'])\n",
    "rain_data1.head()"
   ]
  },
  {
   "cell_type": "code",
   "execution_count": 49,
   "id": "62f59114-7428-4fee-b2e1-b6b1f061da78",
   "metadata": {},
   "outputs": [
    {
     "data": {
      "text/plain": [
       "Rain\n",
       "0    2186\n",
       "1     314\n",
       "Name: count, dtype: int64"
      ]
     },
     "execution_count": 49,
     "metadata": {},
     "output_type": "execute_result"
    }
   ],
   "source": [
    "rain_data1['Rain'].value_counts()"
   ]
  },
  {
   "cell_type": "markdown",
   "id": "e307a006-b078-4e2d-a702-ee59ac20f795",
   "metadata": {},
   "source": [
    "### Handling Imbalance"
   ]
  },
  {
   "cell_type": "markdown",
   "id": "e53f93f6-42ac-494d-8aef-207897f4435e",
   "metadata": {},
   "source": [
    "The model is highly imbalanced so randomly sampling the data for further model buildup"
   ]
  },
  {
   "cell_type": "code",
   "execution_count": 52,
   "id": "a0e8d8b2-3f1b-4111-881a-36400ea57e4a",
   "metadata": {},
   "outputs": [
    {
     "data": {
      "text/html": [
       "<div>\n",
       "<style scoped>\n",
       "    .dataframe tbody tr th:only-of-type {\n",
       "        vertical-align: middle;\n",
       "    }\n",
       "\n",
       "    .dataframe tbody tr th {\n",
       "        vertical-align: top;\n",
       "    }\n",
       "\n",
       "    .dataframe thead th {\n",
       "        text-align: right;\n",
       "    }\n",
       "</style>\n",
       "<table border=\"1\" class=\"dataframe\">\n",
       "  <thead>\n",
       "    <tr style=\"text-align: right;\">\n",
       "      <th></th>\n",
       "      <th>Temperature</th>\n",
       "      <th>Humidity</th>\n",
       "      <th>Wind_Speed</th>\n",
       "      <th>Cloud_Cover</th>\n",
       "      <th>Pressure</th>\n",
       "      <th>Rain</th>\n",
       "    </tr>\n",
       "  </thead>\n",
       "  <tbody>\n",
       "    <tr>\n",
       "      <th>0</th>\n",
       "      <td>23.720338</td>\n",
       "      <td>89.592641</td>\n",
       "      <td>7.335604</td>\n",
       "      <td>50.501694</td>\n",
       "      <td>1032.378759</td>\n",
       "      <td>1</td>\n",
       "    </tr>\n",
       "    <tr>\n",
       "      <th>3</th>\n",
       "      <td>23.622080</td>\n",
       "      <td>74.367758</td>\n",
       "      <td>7.050551</td>\n",
       "      <td>67.255282</td>\n",
       "      <td>982.632013</td>\n",
       "      <td>1</td>\n",
       "    </tr>\n",
       "    <tr>\n",
       "      <th>9</th>\n",
       "      <td>19.586038</td>\n",
       "      <td>82.978293</td>\n",
       "      <td>5.760537</td>\n",
       "      <td>98.014450</td>\n",
       "      <td>1036.503457</td>\n",
       "      <td>1</td>\n",
       "    </tr>\n",
       "    <tr>\n",
       "      <th>11</th>\n",
       "      <td>23.222373</td>\n",
       "      <td>76.877943</td>\n",
       "      <td>15.825673</td>\n",
       "      <td>72.869790</td>\n",
       "      <td>980.108934</td>\n",
       "      <td>1</td>\n",
       "    </tr>\n",
       "    <tr>\n",
       "      <th>16</th>\n",
       "      <td>10.505460</td>\n",
       "      <td>75.456091</td>\n",
       "      <td>14.797331</td>\n",
       "      <td>99.142331</td>\n",
       "      <td>1011.577194</td>\n",
       "      <td>1</td>\n",
       "    </tr>\n",
       "    <tr>\n",
       "      <th>...</th>\n",
       "      <td>...</td>\n",
       "      <td>...</td>\n",
       "      <td>...</td>\n",
       "      <td>...</td>\n",
       "      <td>...</td>\n",
       "      <td>...</td>\n",
       "    </tr>\n",
       "    <tr>\n",
       "      <th>2453</th>\n",
       "      <td>17.827472</td>\n",
       "      <td>82.169130</td>\n",
       "      <td>0.469828</td>\n",
       "      <td>83.246856</td>\n",
       "      <td>1030.180411</td>\n",
       "      <td>1</td>\n",
       "    </tr>\n",
       "    <tr>\n",
       "      <th>2458</th>\n",
       "      <td>11.970059</td>\n",
       "      <td>84.451618</td>\n",
       "      <td>6.833904</td>\n",
       "      <td>97.413056</td>\n",
       "      <td>1025.504426</td>\n",
       "      <td>1</td>\n",
       "    </tr>\n",
       "    <tr>\n",
       "      <th>2473</th>\n",
       "      <td>23.367704</td>\n",
       "      <td>93.753660</td>\n",
       "      <td>7.061520</td>\n",
       "      <td>78.769767</td>\n",
       "      <td>1042.865020</td>\n",
       "      <td>1</td>\n",
       "    </tr>\n",
       "    <tr>\n",
       "      <th>2479</th>\n",
       "      <td>23.963077</td>\n",
       "      <td>86.028469</td>\n",
       "      <td>3.612575</td>\n",
       "      <td>84.842039</td>\n",
       "      <td>997.953417</td>\n",
       "      <td>1</td>\n",
       "    </tr>\n",
       "    <tr>\n",
       "      <th>2481</th>\n",
       "      <td>23.976170</td>\n",
       "      <td>77.144515</td>\n",
       "      <td>16.145567</td>\n",
       "      <td>84.636004</td>\n",
       "      <td>1010.286784</td>\n",
       "      <td>1</td>\n",
       "    </tr>\n",
       "  </tbody>\n",
       "</table>\n",
       "<p>314 rows × 6 columns</p>\n",
       "</div>"
      ],
      "text/plain": [
       "      Temperature   Humidity  Wind_Speed  Cloud_Cover     Pressure  Rain\n",
       "0       23.720338  89.592641    7.335604    50.501694  1032.378759     1\n",
       "3       23.622080  74.367758    7.050551    67.255282   982.632013     1\n",
       "9       19.586038  82.978293    5.760537    98.014450  1036.503457     1\n",
       "11      23.222373  76.877943   15.825673    72.869790   980.108934     1\n",
       "16      10.505460  75.456091   14.797331    99.142331  1011.577194     1\n",
       "...           ...        ...         ...          ...          ...   ...\n",
       "2453    17.827472  82.169130    0.469828    83.246856  1030.180411     1\n",
       "2458    11.970059  84.451618    6.833904    97.413056  1025.504426     1\n",
       "2473    23.367704  93.753660    7.061520    78.769767  1042.865020     1\n",
       "2479    23.963077  86.028469    3.612575    84.842039   997.953417     1\n",
       "2481    23.976170  77.144515   16.145567    84.636004  1010.286784     1\n",
       "\n",
       "[314 rows x 6 columns]"
      ]
     },
     "execution_count": 52,
     "metadata": {},
     "output_type": "execute_result"
    }
   ],
   "source": [
    "rain_ = rain_data1[rain_data1['Rain']==1]\n",
    "rain_"
   ]
  },
  {
   "cell_type": "code",
   "execution_count": 53,
   "id": "472ca860-ffbb-4015-9b04-cde121f6a5e7",
   "metadata": {},
   "outputs": [
    {
     "data": {
      "text/html": [
       "<div>\n",
       "<style scoped>\n",
       "    .dataframe tbody tr th:only-of-type {\n",
       "        vertical-align: middle;\n",
       "    }\n",
       "\n",
       "    .dataframe tbody tr th {\n",
       "        vertical-align: top;\n",
       "    }\n",
       "\n",
       "    .dataframe thead th {\n",
       "        text-align: right;\n",
       "    }\n",
       "</style>\n",
       "<table border=\"1\" class=\"dataframe\">\n",
       "  <thead>\n",
       "    <tr style=\"text-align: right;\">\n",
       "      <th></th>\n",
       "      <th>Temperature</th>\n",
       "      <th>Humidity</th>\n",
       "      <th>Wind_Speed</th>\n",
       "      <th>Cloud_Cover</th>\n",
       "      <th>Pressure</th>\n",
       "      <th>Rain</th>\n",
       "    </tr>\n",
       "  </thead>\n",
       "  <tbody>\n",
       "    <tr>\n",
       "      <th>2204</th>\n",
       "      <td>25.094573</td>\n",
       "      <td>73.168269</td>\n",
       "      <td>16.003358</td>\n",
       "      <td>99.539104</td>\n",
       "      <td>1014.534674</td>\n",
       "      <td>0</td>\n",
       "    </tr>\n",
       "    <tr>\n",
       "      <th>1025</th>\n",
       "      <td>31.208632</td>\n",
       "      <td>69.333802</td>\n",
       "      <td>7.527002</td>\n",
       "      <td>47.821737</td>\n",
       "      <td>982.080624</td>\n",
       "      <td>0</td>\n",
       "    </tr>\n",
       "    <tr>\n",
       "      <th>145</th>\n",
       "      <td>27.597215</td>\n",
       "      <td>51.294047</td>\n",
       "      <td>7.739348</td>\n",
       "      <td>81.778465</td>\n",
       "      <td>1022.756132</td>\n",
       "      <td>0</td>\n",
       "    </tr>\n",
       "    <tr>\n",
       "      <th>1214</th>\n",
       "      <td>25.679018</td>\n",
       "      <td>58.101469</td>\n",
       "      <td>12.838285</td>\n",
       "      <td>57.121360</td>\n",
       "      <td>1026.137954</td>\n",
       "      <td>0</td>\n",
       "    </tr>\n",
       "    <tr>\n",
       "      <th>1934</th>\n",
       "      <td>13.700967</td>\n",
       "      <td>52.822878</td>\n",
       "      <td>4.304973</td>\n",
       "      <td>46.483856</td>\n",
       "      <td>1048.449873</td>\n",
       "      <td>0</td>\n",
       "    </tr>\n",
       "    <tr>\n",
       "      <th>...</th>\n",
       "      <td>...</td>\n",
       "      <td>...</td>\n",
       "      <td>...</td>\n",
       "      <td>...</td>\n",
       "      <td>...</td>\n",
       "      <td>...</td>\n",
       "    </tr>\n",
       "    <tr>\n",
       "      <th>2146</th>\n",
       "      <td>24.311255</td>\n",
       "      <td>39.696002</td>\n",
       "      <td>17.695210</td>\n",
       "      <td>41.131225</td>\n",
       "      <td>1032.871658</td>\n",
       "      <td>0</td>\n",
       "    </tr>\n",
       "    <tr>\n",
       "      <th>504</th>\n",
       "      <td>18.337687</td>\n",
       "      <td>87.148890</td>\n",
       "      <td>12.193064</td>\n",
       "      <td>7.427954</td>\n",
       "      <td>982.201905</td>\n",
       "      <td>0</td>\n",
       "    </tr>\n",
       "    <tr>\n",
       "      <th>624</th>\n",
       "      <td>34.405642</td>\n",
       "      <td>69.720866</td>\n",
       "      <td>16.311672</td>\n",
       "      <td>7.409936</td>\n",
       "      <td>998.839092</td>\n",
       "      <td>0</td>\n",
       "    </tr>\n",
       "    <tr>\n",
       "      <th>2304</th>\n",
       "      <td>13.119911</td>\n",
       "      <td>96.541920</td>\n",
       "      <td>11.660873</td>\n",
       "      <td>30.873911</td>\n",
       "      <td>996.278472</td>\n",
       "      <td>0</td>\n",
       "    </tr>\n",
       "    <tr>\n",
       "      <th>884</th>\n",
       "      <td>29.889759</td>\n",
       "      <td>67.935512</td>\n",
       "      <td>0.844433</td>\n",
       "      <td>44.308033</td>\n",
       "      <td>1014.174228</td>\n",
       "      <td>0</td>\n",
       "    </tr>\n",
       "  </tbody>\n",
       "</table>\n",
       "<p>320 rows × 6 columns</p>\n",
       "</div>"
      ],
      "text/plain": [
       "      Temperature   Humidity  Wind_Speed  Cloud_Cover     Pressure  Rain\n",
       "2204    25.094573  73.168269   16.003358    99.539104  1014.534674     0\n",
       "1025    31.208632  69.333802    7.527002    47.821737   982.080624     0\n",
       "145     27.597215  51.294047    7.739348    81.778465  1022.756132     0\n",
       "1214    25.679018  58.101469   12.838285    57.121360  1026.137954     0\n",
       "1934    13.700967  52.822878    4.304973    46.483856  1048.449873     0\n",
       "...           ...        ...         ...          ...          ...   ...\n",
       "2146    24.311255  39.696002   17.695210    41.131225  1032.871658     0\n",
       "504     18.337687  87.148890   12.193064     7.427954   982.201905     0\n",
       "624     34.405642  69.720866   16.311672     7.409936   998.839092     0\n",
       "2304    13.119911  96.541920   11.660873    30.873911   996.278472     0\n",
       "884     29.889759  67.935512    0.844433    44.308033  1014.174228     0\n",
       "\n",
       "[320 rows x 6 columns]"
      ]
     },
     "execution_count": 53,
     "metadata": {},
     "output_type": "execute_result"
    }
   ],
   "source": [
    "no_rain = rain_data1[rain_data1['Rain']==0].sample(320)\n",
    "no_rain"
   ]
  },
  {
   "cell_type": "code",
   "execution_count": 54,
   "id": "76f57cce-882c-41b0-8cf6-999f8823cc69",
   "metadata": {},
   "outputs": [
    {
     "data": {
      "text/html": [
       "<div>\n",
       "<style scoped>\n",
       "    .dataframe tbody tr th:only-of-type {\n",
       "        vertical-align: middle;\n",
       "    }\n",
       "\n",
       "    .dataframe tbody tr th {\n",
       "        vertical-align: top;\n",
       "    }\n",
       "\n",
       "    .dataframe thead th {\n",
       "        text-align: right;\n",
       "    }\n",
       "</style>\n",
       "<table border=\"1\" class=\"dataframe\">\n",
       "  <thead>\n",
       "    <tr style=\"text-align: right;\">\n",
       "      <th></th>\n",
       "      <th>Temperature</th>\n",
       "      <th>Humidity</th>\n",
       "      <th>Wind_Speed</th>\n",
       "      <th>Cloud_Cover</th>\n",
       "      <th>Pressure</th>\n",
       "      <th>Rain</th>\n",
       "    </tr>\n",
       "  </thead>\n",
       "  <tbody>\n",
       "    <tr>\n",
       "      <th>0</th>\n",
       "      <td>20.216935</td>\n",
       "      <td>38.979817</td>\n",
       "      <td>13.403354</td>\n",
       "      <td>29.489313</td>\n",
       "      <td>994.531136</td>\n",
       "      <td>0</td>\n",
       "    </tr>\n",
       "    <tr>\n",
       "      <th>1</th>\n",
       "      <td>13.787150</td>\n",
       "      <td>92.390580</td>\n",
       "      <td>2.761880</td>\n",
       "      <td>50.372833</td>\n",
       "      <td>997.029601</td>\n",
       "      <td>1</td>\n",
       "    </tr>\n",
       "    <tr>\n",
       "      <th>2</th>\n",
       "      <td>14.163552</td>\n",
       "      <td>90.089428</td>\n",
       "      <td>14.524855</td>\n",
       "      <td>95.856611</td>\n",
       "      <td>984.573029</td>\n",
       "      <td>1</td>\n",
       "    </tr>\n",
       "    <tr>\n",
       "      <th>3</th>\n",
       "      <td>26.544090</td>\n",
       "      <td>64.537896</td>\n",
       "      <td>16.175928</td>\n",
       "      <td>56.936343</td>\n",
       "      <td>991.332382</td>\n",
       "      <td>0</td>\n",
       "    </tr>\n",
       "    <tr>\n",
       "      <th>4</th>\n",
       "      <td>33.238233</td>\n",
       "      <td>43.888472</td>\n",
       "      <td>6.380042</td>\n",
       "      <td>2.703440</td>\n",
       "      <td>984.095129</td>\n",
       "      <td>0</td>\n",
       "    </tr>\n",
       "    <tr>\n",
       "      <th>...</th>\n",
       "      <td>...</td>\n",
       "      <td>...</td>\n",
       "      <td>...</td>\n",
       "      <td>...</td>\n",
       "      <td>...</td>\n",
       "      <td>...</td>\n",
       "    </tr>\n",
       "    <tr>\n",
       "      <th>629</th>\n",
       "      <td>21.153388</td>\n",
       "      <td>73.604870</td>\n",
       "      <td>4.793538</td>\n",
       "      <td>66.814779</td>\n",
       "      <td>1019.546337</td>\n",
       "      <td>1</td>\n",
       "    </tr>\n",
       "    <tr>\n",
       "      <th>630</th>\n",
       "      <td>20.635043</td>\n",
       "      <td>92.055361</td>\n",
       "      <td>4.028337</td>\n",
       "      <td>75.363678</td>\n",
       "      <td>1020.679320</td>\n",
       "      <td>1</td>\n",
       "    </tr>\n",
       "    <tr>\n",
       "      <th>631</th>\n",
       "      <td>10.835182</td>\n",
       "      <td>79.085020</td>\n",
       "      <td>3.843626</td>\n",
       "      <td>55.573283</td>\n",
       "      <td>1028.101154</td>\n",
       "      <td>1</td>\n",
       "    </tr>\n",
       "    <tr>\n",
       "      <th>632</th>\n",
       "      <td>14.158115</td>\n",
       "      <td>39.981400</td>\n",
       "      <td>4.490477</td>\n",
       "      <td>29.541857</td>\n",
       "      <td>1029.817435</td>\n",
       "      <td>0</td>\n",
       "    </tr>\n",
       "    <tr>\n",
       "      <th>633</th>\n",
       "      <td>20.616575</td>\n",
       "      <td>79.444590</td>\n",
       "      <td>17.617160</td>\n",
       "      <td>93.945602</td>\n",
       "      <td>982.310943</td>\n",
       "      <td>1</td>\n",
       "    </tr>\n",
       "  </tbody>\n",
       "</table>\n",
       "<p>634 rows × 6 columns</p>\n",
       "</div>"
      ],
      "text/plain": [
       "     Temperature   Humidity  Wind_Speed  Cloud_Cover     Pressure  Rain\n",
       "0      20.216935  38.979817   13.403354    29.489313   994.531136     0\n",
       "1      13.787150  92.390580    2.761880    50.372833   997.029601     1\n",
       "2      14.163552  90.089428   14.524855    95.856611   984.573029     1\n",
       "3      26.544090  64.537896   16.175928    56.936343   991.332382     0\n",
       "4      33.238233  43.888472    6.380042     2.703440   984.095129     0\n",
       "..           ...        ...         ...          ...          ...   ...\n",
       "629    21.153388  73.604870    4.793538    66.814779  1019.546337     1\n",
       "630    20.635043  92.055361    4.028337    75.363678  1020.679320     1\n",
       "631    10.835182  79.085020    3.843626    55.573283  1028.101154     1\n",
       "632    14.158115  39.981400    4.490477    29.541857  1029.817435     0\n",
       "633    20.616575  79.444590   17.617160    93.945602   982.310943     1\n",
       "\n",
       "[634 rows x 6 columns]"
      ]
     },
     "execution_count": 54,
     "metadata": {},
     "output_type": "execute_result"
    }
   ],
   "source": [
    "rain_data2 = pd.concat([rain_, no_rain], axis=0).sample(frac=1, random_state=42).reset_index(drop=True)\n",
    "rain_data2"
   ]
  },
  {
   "cell_type": "code",
   "execution_count": 55,
   "id": "dbda7b84-6faa-4535-b782-5ea36de330af",
   "metadata": {},
   "outputs": [
    {
     "data": {
      "text/plain": [
       "Rain\n",
       "0    320\n",
       "1    314\n",
       "Name: count, dtype: int64"
      ]
     },
     "execution_count": 55,
     "metadata": {},
     "output_type": "execute_result"
    }
   ],
   "source": [
    "rain_data2['Rain'].value_counts()"
   ]
  },
  {
   "cell_type": "markdown",
   "id": "e9a315e8-91d3-49c7-8974-ecd83bb0a776",
   "metadata": {},
   "source": [
    "### Seperating the Target and independent variables "
   ]
  },
  {
   "cell_type": "code",
   "execution_count": 57,
   "id": "645ac654-1f25-4692-afac-610ed0e9a4e5",
   "metadata": {},
   "outputs": [
    {
     "data": {
      "text/html": [
       "<div>\n",
       "<style scoped>\n",
       "    .dataframe tbody tr th:only-of-type {\n",
       "        vertical-align: middle;\n",
       "    }\n",
       "\n",
       "    .dataframe tbody tr th {\n",
       "        vertical-align: top;\n",
       "    }\n",
       "\n",
       "    .dataframe thead th {\n",
       "        text-align: right;\n",
       "    }\n",
       "</style>\n",
       "<table border=\"1\" class=\"dataframe\">\n",
       "  <thead>\n",
       "    <tr style=\"text-align: right;\">\n",
       "      <th></th>\n",
       "      <th>Temperature</th>\n",
       "      <th>Humidity</th>\n",
       "      <th>Wind_Speed</th>\n",
       "      <th>Cloud_Cover</th>\n",
       "      <th>Pressure</th>\n",
       "    </tr>\n",
       "  </thead>\n",
       "  <tbody>\n",
       "    <tr>\n",
       "      <th>0</th>\n",
       "      <td>20.216935</td>\n",
       "      <td>38.979817</td>\n",
       "      <td>13.403354</td>\n",
       "      <td>29.489313</td>\n",
       "      <td>994.531136</td>\n",
       "    </tr>\n",
       "    <tr>\n",
       "      <th>1</th>\n",
       "      <td>13.787150</td>\n",
       "      <td>92.390580</td>\n",
       "      <td>2.761880</td>\n",
       "      <td>50.372833</td>\n",
       "      <td>997.029601</td>\n",
       "    </tr>\n",
       "    <tr>\n",
       "      <th>2</th>\n",
       "      <td>14.163552</td>\n",
       "      <td>90.089428</td>\n",
       "      <td>14.524855</td>\n",
       "      <td>95.856611</td>\n",
       "      <td>984.573029</td>\n",
       "    </tr>\n",
       "    <tr>\n",
       "      <th>3</th>\n",
       "      <td>26.544090</td>\n",
       "      <td>64.537896</td>\n",
       "      <td>16.175928</td>\n",
       "      <td>56.936343</td>\n",
       "      <td>991.332382</td>\n",
       "    </tr>\n",
       "    <tr>\n",
       "      <th>4</th>\n",
       "      <td>33.238233</td>\n",
       "      <td>43.888472</td>\n",
       "      <td>6.380042</td>\n",
       "      <td>2.703440</td>\n",
       "      <td>984.095129</td>\n",
       "    </tr>\n",
       "  </tbody>\n",
       "</table>\n",
       "</div>"
      ],
      "text/plain": [
       "   Temperature   Humidity  Wind_Speed  Cloud_Cover    Pressure\n",
       "0    20.216935  38.979817   13.403354    29.489313  994.531136\n",
       "1    13.787150  92.390580    2.761880    50.372833  997.029601\n",
       "2    14.163552  90.089428   14.524855    95.856611  984.573029\n",
       "3    26.544090  64.537896   16.175928    56.936343  991.332382\n",
       "4    33.238233  43.888472    6.380042     2.703440  984.095129"
      ]
     },
     "execution_count": 57,
     "metadata": {},
     "output_type": "execute_result"
    }
   ],
   "source": [
    "x = rain_data2.drop('Rain',axis=1)\n",
    "x.head()"
   ]
  },
  {
   "cell_type": "code",
   "execution_count": 58,
   "id": "6ae688e4-4259-45ef-9dc7-75c5eb900a7f",
   "metadata": {},
   "outputs": [
    {
     "data": {
      "text/plain": [
       "0      0\n",
       "1      1\n",
       "2      1\n",
       "3      0\n",
       "4      0\n",
       "      ..\n",
       "629    1\n",
       "630    1\n",
       "631    1\n",
       "632    0\n",
       "633    1\n",
       "Name: Rain, Length: 634, dtype: int32"
      ]
     },
     "execution_count": 58,
     "metadata": {},
     "output_type": "execute_result"
    }
   ],
   "source": [
    "y = rain_data2['Rain']\n",
    "y"
   ]
  },
  {
   "cell_type": "markdown",
   "id": "b9f6e1a9-cdae-4203-9537-47be71eea2fd",
   "metadata": {},
   "source": [
    "### Splitting Testing and Training Data"
   ]
  },
  {
   "cell_type": "code",
   "execution_count": 60,
   "id": "6ccd8844-61aa-4327-93e8-5aa17b1be98a",
   "metadata": {},
   "outputs": [],
   "source": [
    "from sklearn.model_selection import train_test_split"
   ]
  },
  {
   "cell_type": "code",
   "execution_count": 61,
   "id": "63c1a12c-cefd-4f14-9935-508ed3b2867a",
   "metadata": {},
   "outputs": [],
   "source": [
    "x_train, x_test, y_train, y_test = train_test_split(x, y, test_size=0.2, random_state=42)"
   ]
  },
  {
   "cell_type": "code",
   "execution_count": 62,
   "id": "23e44774-b760-41c2-a362-833a76c4d876",
   "metadata": {},
   "outputs": [
    {
     "data": {
      "text/plain": [
       "((507, 5), (127, 5))"
      ]
     },
     "execution_count": 62,
     "metadata": {},
     "output_type": "execute_result"
    }
   ],
   "source": [
    "x_train.shape, x_test.shape"
   ]
  },
  {
   "cell_type": "code",
   "execution_count": 63,
   "id": "701aa0b4-9a70-4b5a-8f6c-c843853f2bdc",
   "metadata": {},
   "outputs": [
    {
     "data": {
      "text/plain": [
       "Rain\n",
       "0    264\n",
       "1    243\n",
       "Name: count, dtype: int64"
      ]
     },
     "execution_count": 63,
     "metadata": {},
     "output_type": "execute_result"
    }
   ],
   "source": [
    "y_train.value_counts()"
   ]
  },
  {
   "cell_type": "markdown",
   "id": "2415ce85-3410-423e-a45d-0eabfb91a5c0",
   "metadata": {},
   "source": [
    "### Feature Scaling"
   ]
  },
  {
   "cell_type": "code",
   "execution_count": 65,
   "id": "7bc99e9d-9250-4f17-8bb8-abce2845a534",
   "metadata": {},
   "outputs": [],
   "source": [
    "from sklearn.preprocessing import StandardScaler"
   ]
  },
  {
   "cell_type": "code",
   "execution_count": 66,
   "id": "06e8e64f-124c-4614-899a-4fead83bf188",
   "metadata": {},
   "outputs": [],
   "source": [
    "scaler = StandardScaler()"
   ]
  },
  {
   "cell_type": "code",
   "execution_count": 67,
   "id": "8acda64c-307a-4134-9102-d95da3c3aa1e",
   "metadata": {},
   "outputs": [
    {
     "data": {
      "text/html": [
       "<div>\n",
       "<style scoped>\n",
       "    .dataframe tbody tr th:only-of-type {\n",
       "        vertical-align: middle;\n",
       "    }\n",
       "\n",
       "    .dataframe tbody tr th {\n",
       "        vertical-align: top;\n",
       "    }\n",
       "\n",
       "    .dataframe thead th {\n",
       "        text-align: right;\n",
       "    }\n",
       "</style>\n",
       "<table border=\"1\" class=\"dataframe\">\n",
       "  <thead>\n",
       "    <tr style=\"text-align: right;\">\n",
       "      <th></th>\n",
       "      <th>Temperature</th>\n",
       "      <th>Humidity</th>\n",
       "      <th>Wind_Speed</th>\n",
       "      <th>Cloud_Cover</th>\n",
       "      <th>Pressure</th>\n",
       "    </tr>\n",
       "  </thead>\n",
       "  <tbody>\n",
       "    <tr>\n",
       "      <th>487</th>\n",
       "      <td>12.932889</td>\n",
       "      <td>41.285275</td>\n",
       "      <td>5.227225</td>\n",
       "      <td>70.673457</td>\n",
       "      <td>1022.626620</td>\n",
       "    </tr>\n",
       "    <tr>\n",
       "      <th>421</th>\n",
       "      <td>13.758744</td>\n",
       "      <td>98.489076</td>\n",
       "      <td>14.552080</td>\n",
       "      <td>98.653777</td>\n",
       "      <td>1037.075615</td>\n",
       "    </tr>\n",
       "    <tr>\n",
       "      <th>104</th>\n",
       "      <td>26.699427</td>\n",
       "      <td>68.041619</td>\n",
       "      <td>17.891273</td>\n",
       "      <td>27.899149</td>\n",
       "      <td>995.174466</td>\n",
       "    </tr>\n",
       "    <tr>\n",
       "      <th>114</th>\n",
       "      <td>17.478841</td>\n",
       "      <td>84.518188</td>\n",
       "      <td>0.584854</td>\n",
       "      <td>92.551806</td>\n",
       "      <td>1023.389889</td>\n",
       "    </tr>\n",
       "    <tr>\n",
       "      <th>349</th>\n",
       "      <td>34.499058</td>\n",
       "      <td>97.541746</td>\n",
       "      <td>17.729915</td>\n",
       "      <td>31.435377</td>\n",
       "      <td>1007.015911</td>\n",
       "    </tr>\n",
       "    <tr>\n",
       "      <th>...</th>\n",
       "      <td>...</td>\n",
       "      <td>...</td>\n",
       "      <td>...</td>\n",
       "      <td>...</td>\n",
       "      <td>...</td>\n",
       "    </tr>\n",
       "    <tr>\n",
       "      <th>71</th>\n",
       "      <td>32.174020</td>\n",
       "      <td>55.217371</td>\n",
       "      <td>9.346765</td>\n",
       "      <td>19.468726</td>\n",
       "      <td>1011.394371</td>\n",
       "    </tr>\n",
       "    <tr>\n",
       "      <th>106</th>\n",
       "      <td>17.167917</td>\n",
       "      <td>79.712655</td>\n",
       "      <td>15.961831</td>\n",
       "      <td>57.519789</td>\n",
       "      <td>1018.730008</td>\n",
       "    </tr>\n",
       "    <tr>\n",
       "      <th>270</th>\n",
       "      <td>26.128463</td>\n",
       "      <td>52.712704</td>\n",
       "      <td>9.155946</td>\n",
       "      <td>5.698035</td>\n",
       "      <td>1028.580099</td>\n",
       "    </tr>\n",
       "    <tr>\n",
       "      <th>435</th>\n",
       "      <td>12.889033</td>\n",
       "      <td>74.574227</td>\n",
       "      <td>5.867187</td>\n",
       "      <td>73.003270</td>\n",
       "      <td>994.317467</td>\n",
       "    </tr>\n",
       "    <tr>\n",
       "      <th>102</th>\n",
       "      <td>18.337687</td>\n",
       "      <td>87.148890</td>\n",
       "      <td>12.193064</td>\n",
       "      <td>7.427954</td>\n",
       "      <td>982.201905</td>\n",
       "    </tr>\n",
       "  </tbody>\n",
       "</table>\n",
       "<p>507 rows × 5 columns</p>\n",
       "</div>"
      ],
      "text/plain": [
       "     Temperature   Humidity  Wind_Speed  Cloud_Cover     Pressure\n",
       "487    12.932889  41.285275    5.227225    70.673457  1022.626620\n",
       "421    13.758744  98.489076   14.552080    98.653777  1037.075615\n",
       "104    26.699427  68.041619   17.891273    27.899149   995.174466\n",
       "114    17.478841  84.518188    0.584854    92.551806  1023.389889\n",
       "349    34.499058  97.541746   17.729915    31.435377  1007.015911\n",
       "..           ...        ...         ...          ...          ...\n",
       "71     32.174020  55.217371    9.346765    19.468726  1011.394371\n",
       "106    17.167917  79.712655   15.961831    57.519789  1018.730008\n",
       "270    26.128463  52.712704    9.155946     5.698035  1028.580099\n",
       "435    12.889033  74.574227    5.867187    73.003270   994.317467\n",
       "102    18.337687  87.148890   12.193064     7.427954   982.201905\n",
       "\n",
       "[507 rows x 5 columns]"
      ]
     },
     "execution_count": 67,
     "metadata": {},
     "output_type": "execute_result"
    }
   ],
   "source": [
    "x_train[num_col]"
   ]
  },
  {
   "cell_type": "code",
   "execution_count": 68,
   "id": "ca3bb716-b51e-497f-8993-d738c767fd73",
   "metadata": {},
   "outputs": [
    {
     "data": {
      "text/html": [
       "<div>\n",
       "<style scoped>\n",
       "    .dataframe tbody tr th:only-of-type {\n",
       "        vertical-align: middle;\n",
       "    }\n",
       "\n",
       "    .dataframe tbody tr th {\n",
       "        vertical-align: top;\n",
       "    }\n",
       "\n",
       "    .dataframe thead th {\n",
       "        text-align: right;\n",
       "    }\n",
       "</style>\n",
       "<table border=\"1\" class=\"dataframe\">\n",
       "  <thead>\n",
       "    <tr style=\"text-align: right;\">\n",
       "      <th></th>\n",
       "      <th>Temperature</th>\n",
       "      <th>Humidity</th>\n",
       "      <th>Wind_Speed</th>\n",
       "      <th>Cloud_Cover</th>\n",
       "      <th>Pressure</th>\n",
       "    </tr>\n",
       "  </thead>\n",
       "  <tbody>\n",
       "    <tr>\n",
       "      <th>487</th>\n",
       "      <td>-1.090865</td>\n",
       "      <td>-1.684957</td>\n",
       "      <td>-0.834646</td>\n",
       "      <td>0.408255</td>\n",
       "      <td>0.410038</td>\n",
       "    </tr>\n",
       "    <tr>\n",
       "      <th>421</th>\n",
       "      <td>-0.967869</td>\n",
       "      <td>1.376133</td>\n",
       "      <td>0.776038</td>\n",
       "      <td>1.474996</td>\n",
       "      <td>1.117570</td>\n",
       "    </tr>\n",
       "    <tr>\n",
       "      <th>104</th>\n",
       "      <td>0.959406</td>\n",
       "      <td>-0.253172</td>\n",
       "      <td>1.352817</td>\n",
       "      <td>-1.222503</td>\n",
       "      <td>-0.934228</td>\n",
       "    </tr>\n",
       "    <tr>\n",
       "      <th>114</th>\n",
       "      <td>-0.413829</td>\n",
       "      <td>0.628522</td>\n",
       "      <td>-1.636523</td>\n",
       "      <td>1.242360</td>\n",
       "      <td>0.447413</td>\n",
       "    </tr>\n",
       "    <tr>\n",
       "      <th>349</th>\n",
       "      <td>2.121017</td>\n",
       "      <td>1.325439</td>\n",
       "      <td>1.324946</td>\n",
       "      <td>-1.087685</td>\n",
       "      <td>-0.354381</td>\n",
       "    </tr>\n",
       "    <tr>\n",
       "      <th>...</th>\n",
       "      <td>...</td>\n",
       "      <td>...</td>\n",
       "      <td>...</td>\n",
       "      <td>...</td>\n",
       "      <td>...</td>\n",
       "    </tr>\n",
       "    <tr>\n",
       "      <th>71</th>\n",
       "      <td>1.774746</td>\n",
       "      <td>-0.939423</td>\n",
       "      <td>-0.123077</td>\n",
       "      <td>-1.543910</td>\n",
       "      <td>-0.139978</td>\n",
       "    </tr>\n",
       "    <tr>\n",
       "      <th>106</th>\n",
       "      <td>-0.460136</td>\n",
       "      <td>0.371369</td>\n",
       "      <td>1.019544</td>\n",
       "      <td>-0.093225</td>\n",
       "      <td>0.219230</td>\n",
       "    </tr>\n",
       "    <tr>\n",
       "      <th>270</th>\n",
       "      <td>0.874372</td>\n",
       "      <td>-1.073453</td>\n",
       "      <td>-0.156037</td>\n",
       "      <td>-2.068914</td>\n",
       "      <td>0.701565</td>\n",
       "    </tr>\n",
       "    <tr>\n",
       "      <th>435</th>\n",
       "      <td>-1.097396</td>\n",
       "      <td>0.096401</td>\n",
       "      <td>-0.724105</td>\n",
       "      <td>0.497078</td>\n",
       "      <td>-0.976193</td>\n",
       "    </tr>\n",
       "    <tr>\n",
       "      <th>102</th>\n",
       "      <td>-0.285920</td>\n",
       "      <td>0.769297</td>\n",
       "      <td>0.368565</td>\n",
       "      <td>-2.002961</td>\n",
       "      <td>-1.569462</td>\n",
       "    </tr>\n",
       "  </tbody>\n",
       "</table>\n",
       "<p>507 rows × 5 columns</p>\n",
       "</div>"
      ],
      "text/plain": [
       "     Temperature  Humidity  Wind_Speed  Cloud_Cover  Pressure\n",
       "487    -1.090865 -1.684957   -0.834646     0.408255  0.410038\n",
       "421    -0.967869  1.376133    0.776038     1.474996  1.117570\n",
       "104     0.959406 -0.253172    1.352817    -1.222503 -0.934228\n",
       "114    -0.413829  0.628522   -1.636523     1.242360  0.447413\n",
       "349     2.121017  1.325439    1.324946    -1.087685 -0.354381\n",
       "..           ...       ...         ...          ...       ...\n",
       "71      1.774746 -0.939423   -0.123077    -1.543910 -0.139978\n",
       "106    -0.460136  0.371369    1.019544    -0.093225  0.219230\n",
       "270     0.874372 -1.073453   -0.156037    -2.068914  0.701565\n",
       "435    -1.097396  0.096401   -0.724105     0.497078 -0.976193\n",
       "102    -0.285920  0.769297    0.368565    -2.002961 -1.569462\n",
       "\n",
       "[507 rows x 5 columns]"
      ]
     },
     "execution_count": 68,
     "metadata": {},
     "output_type": "execute_result"
    }
   ],
   "source": [
    "x_train[num_col] = scaler.fit_transform(x_train[num_col])\n",
    "x_train"
   ]
  },
  {
   "cell_type": "code",
   "execution_count": 69,
   "id": "40b21cce-b07d-4c43-8b06-5423b35e4540",
   "metadata": {},
   "outputs": [
    {
     "data": {
      "text/html": [
       "<div>\n",
       "<style scoped>\n",
       "    .dataframe tbody tr th:only-of-type {\n",
       "        vertical-align: middle;\n",
       "    }\n",
       "\n",
       "    .dataframe tbody tr th {\n",
       "        vertical-align: top;\n",
       "    }\n",
       "\n",
       "    .dataframe thead th {\n",
       "        text-align: right;\n",
       "    }\n",
       "</style>\n",
       "<table border=\"1\" class=\"dataframe\">\n",
       "  <thead>\n",
       "    <tr style=\"text-align: right;\">\n",
       "      <th></th>\n",
       "      <th>Temperature</th>\n",
       "      <th>Humidity</th>\n",
       "      <th>Wind_Speed</th>\n",
       "      <th>Cloud_Cover</th>\n",
       "      <th>Pressure</th>\n",
       "    </tr>\n",
       "  </thead>\n",
       "  <tbody>\n",
       "    <tr>\n",
       "      <th>396</th>\n",
       "      <td>1.346456</td>\n",
       "      <td>0.018785</td>\n",
       "      <td>0.194378</td>\n",
       "      <td>-1.491144</td>\n",
       "      <td>1.246137</td>\n",
       "    </tr>\n",
       "    <tr>\n",
       "      <th>248</th>\n",
       "      <td>-0.718685</td>\n",
       "      <td>-1.869017</td>\n",
       "      <td>0.626193</td>\n",
       "      <td>1.313535</td>\n",
       "      <td>0.368025</td>\n",
       "    </tr>\n",
       "    <tr>\n",
       "      <th>215</th>\n",
       "      <td>-0.638771</td>\n",
       "      <td>1.021123</td>\n",
       "      <td>-1.601237</td>\n",
       "      <td>0.991568</td>\n",
       "      <td>0.965587</td>\n",
       "    </tr>\n",
       "    <tr>\n",
       "      <th>353</th>\n",
       "      <td>-0.906837</td>\n",
       "      <td>0.389332</td>\n",
       "      <td>-1.184498</td>\n",
       "      <td>0.722171</td>\n",
       "      <td>0.055399</td>\n",
       "    </tr>\n",
       "    <tr>\n",
       "      <th>548</th>\n",
       "      <td>-0.898334</td>\n",
       "      <td>0.029322</td>\n",
       "      <td>-0.295100</td>\n",
       "      <td>-2.050895</td>\n",
       "      <td>0.074683</td>\n",
       "    </tr>\n",
       "    <tr>\n",
       "      <th>...</th>\n",
       "      <td>...</td>\n",
       "      <td>...</td>\n",
       "      <td>...</td>\n",
       "      <td>...</td>\n",
       "      <td>...</td>\n",
       "    </tr>\n",
       "    <tr>\n",
       "      <th>556</th>\n",
       "      <td>-0.479731</td>\n",
       "      <td>0.363380</td>\n",
       "      <td>0.003909</td>\n",
       "      <td>-0.083406</td>\n",
       "      <td>-1.067518</td>\n",
       "    </tr>\n",
       "    <tr>\n",
       "      <th>265</th>\n",
       "      <td>-0.371102</td>\n",
       "      <td>1.131661</td>\n",
       "      <td>0.069401</td>\n",
       "      <td>0.477832</td>\n",
       "      <td>-0.307086</td>\n",
       "    </tr>\n",
       "    <tr>\n",
       "      <th>473</th>\n",
       "      <td>-0.114057</td>\n",
       "      <td>-0.957327</td>\n",
       "      <td>1.341933</td>\n",
       "      <td>-0.363744</td>\n",
       "      <td>0.839616</td>\n",
       "    </tr>\n",
       "    <tr>\n",
       "      <th>464</th>\n",
       "      <td>-1.214122</td>\n",
       "      <td>1.116164</td>\n",
       "      <td>0.714953</td>\n",
       "      <td>1.044474</td>\n",
       "      <td>-0.064979</td>\n",
       "    </tr>\n",
       "    <tr>\n",
       "      <th>340</th>\n",
       "      <td>1.730955</td>\n",
       "      <td>1.263613</td>\n",
       "      <td>0.170281</td>\n",
       "      <td>-0.511838</td>\n",
       "      <td>0.330346</td>\n",
       "    </tr>\n",
       "  </tbody>\n",
       "</table>\n",
       "<p>127 rows × 5 columns</p>\n",
       "</div>"
      ],
      "text/plain": [
       "     Temperature  Humidity  Wind_Speed  Cloud_Cover  Pressure\n",
       "396     1.346456  0.018785    0.194378    -1.491144  1.246137\n",
       "248    -0.718685 -1.869017    0.626193     1.313535  0.368025\n",
       "215    -0.638771  1.021123   -1.601237     0.991568  0.965587\n",
       "353    -0.906837  0.389332   -1.184498     0.722171  0.055399\n",
       "548    -0.898334  0.029322   -0.295100    -2.050895  0.074683\n",
       "..           ...       ...         ...          ...       ...\n",
       "556    -0.479731  0.363380    0.003909    -0.083406 -1.067518\n",
       "265    -0.371102  1.131661    0.069401     0.477832 -0.307086\n",
       "473    -0.114057 -0.957327    1.341933    -0.363744  0.839616\n",
       "464    -1.214122  1.116164    0.714953     1.044474 -0.064979\n",
       "340     1.730955  1.263613    0.170281    -0.511838  0.330346\n",
       "\n",
       "[127 rows x 5 columns]"
      ]
     },
     "execution_count": 69,
     "metadata": {},
     "output_type": "execute_result"
    }
   ],
   "source": [
    "x_test[num_col] = scaler.transform(x_test[num_col])\n",
    "x_test"
   ]
  },
  {
   "cell_type": "markdown",
   "id": "bb4605a4-b8ad-4d29-aef1-151d4a260110",
   "metadata": {},
   "source": [
    "## Model Development"
   ]
  },
  {
   "cell_type": "markdown",
   "id": "020f4e4d-91f0-4a13-8360-86d8958c86cd",
   "metadata": {},
   "source": [
    "### Importing Models"
   ]
  },
  {
   "cell_type": "code",
   "execution_count": 72,
   "id": "93fd8424-7664-48ce-9fc2-e3ae5cd4e22b",
   "metadata": {},
   "outputs": [],
   "source": [
    "from sklearn.linear_model import LogisticRegression\n",
    "from sklearn.tree import DecisionTreeClassifier\n",
    "from sklearn.ensemble import RandomForestClassifier\n",
    "from sklearn.neighbors import KNeighborsClassifier\n",
    "from sklearn.svm import SVC\n",
    "from sklearn.naive_bayes import GaussianNB"
   ]
  },
  {
   "cell_type": "code",
   "execution_count": 73,
   "id": "7dd87089-5b4b-4807-9095-82e630f029c4",
   "metadata": {},
   "outputs": [],
   "source": [
    "lr_model = LogisticRegression()\n",
    "dt_model = DecisionTreeClassifier()\n",
    "rf_model = RandomForestClassifier()\n",
    "knn_model = KNeighborsClassifier()\n",
    "svm_model = SVC()\n",
    "nb_model = GaussianNB()"
   ]
  },
  {
   "cell_type": "code",
   "execution_count": 74,
   "id": "7af18219-ba12-4cea-8a60-92e880c10162",
   "metadata": {},
   "outputs": [
    {
     "data": {
      "text/plain": [
       "[LogisticRegression(),\n",
       " DecisionTreeClassifier(),\n",
       " RandomForestClassifier(),\n",
       " KNeighborsClassifier(),\n",
       " SVC(),\n",
       " GaussianNB()]"
      ]
     },
     "execution_count": 74,
     "metadata": {},
     "output_type": "execute_result"
    }
   ],
   "source": [
    "models = [lr_model,dt_model,rf_model,knn_model,svm_model,nb_model]\n",
    "models"
   ]
  },
  {
   "cell_type": "markdown",
   "id": "8788fc42-ffe2-4712-a68f-a2d6b596287b",
   "metadata": {},
   "source": [
    "### Model Training"
   ]
  },
  {
   "cell_type": "code",
   "execution_count": 76,
   "id": "20e1ebb6-8cca-4feb-b875-a579fa50dd02",
   "metadata": {},
   "outputs": [],
   "source": [
    "for model in models:\n",
    "    model.fit(x_train,y_train)"
   ]
  },
  {
   "cell_type": "markdown",
   "id": "0de3b9f4-94b4-47a0-933e-ee21f2329ea7",
   "metadata": {},
   "source": [
    "### Model Evaluation"
   ]
  },
  {
   "cell_type": "markdown",
   "id": "2cebaedf-1b77-4a81-bf0a-0b3f20b692ce",
   "metadata": {},
   "source": [
    "#### Classification Report"
   ]
  },
  {
   "cell_type": "code",
   "execution_count": 79,
   "id": "7ce7e2d1-bc23-4912-b7e5-bf7f48c60d03",
   "metadata": {},
   "outputs": [],
   "source": [
    "from sklearn.metrics import classification_report"
   ]
  },
  {
   "cell_type": "code",
   "execution_count": 80,
   "id": "bb572f44-4b2c-47fb-b723-dc2d0a3eea4d",
   "metadata": {},
   "outputs": [
    {
     "name": "stdout",
     "output_type": "stream",
     "text": [
      "LogisticRegression\n",
      "              precision    recall  f1-score   support\n",
      "\n",
      "           0       0.93      0.89      0.91        56\n",
      "           1       0.92      0.94      0.93        71\n",
      "\n",
      "    accuracy                           0.92       127\n",
      "   macro avg       0.92      0.92      0.92       127\n",
      "weighted avg       0.92      0.92      0.92       127\n",
      "\n",
      "-------------------------------------------------------\n",
      " \n",
      "DecisionTreeClassifier\n",
      "              precision    recall  f1-score   support\n",
      "\n",
      "           0       1.00      1.00      1.00        56\n",
      "           1       1.00      1.00      1.00        71\n",
      "\n",
      "    accuracy                           1.00       127\n",
      "   macro avg       1.00      1.00      1.00       127\n",
      "weighted avg       1.00      1.00      1.00       127\n",
      "\n",
      "-------------------------------------------------------\n",
      " \n",
      "RandomForestClassifier\n",
      "              precision    recall  f1-score   support\n",
      "\n",
      "           0       1.00      1.00      1.00        56\n",
      "           1       1.00      1.00      1.00        71\n",
      "\n",
      "    accuracy                           1.00       127\n",
      "   macro avg       1.00      1.00      1.00       127\n",
      "weighted avg       1.00      1.00      1.00       127\n",
      "\n",
      "-------------------------------------------------------\n",
      " \n",
      "KNeighborsClassifier\n",
      "              precision    recall  f1-score   support\n",
      "\n",
      "           0       1.00      0.84      0.91        56\n",
      "           1       0.89      1.00      0.94        71\n",
      "\n",
      "    accuracy                           0.93       127\n",
      "   macro avg       0.94      0.92      0.93       127\n",
      "weighted avg       0.94      0.93      0.93       127\n",
      "\n",
      "-------------------------------------------------------\n",
      " \n",
      "SVC\n",
      "              precision    recall  f1-score   support\n",
      "\n",
      "           0       1.00      0.91      0.95        56\n",
      "           1       0.93      1.00      0.97        71\n",
      "\n",
      "    accuracy                           0.96       127\n",
      "   macro avg       0.97      0.96      0.96       127\n",
      "weighted avg       0.96      0.96      0.96       127\n",
      "\n",
      "-------------------------------------------------------\n",
      " \n",
      "GaussianNB\n",
      "              precision    recall  f1-score   support\n",
      "\n",
      "           0       0.98      0.95      0.96        56\n",
      "           1       0.96      0.99      0.97        71\n",
      "\n",
      "    accuracy                           0.97       127\n",
      "   macro avg       0.97      0.97      0.97       127\n",
      "weighted avg       0.97      0.97      0.97       127\n",
      "\n",
      "-------------------------------------------------------\n",
      " \n"
     ]
    }
   ],
   "source": [
    "for model in models:\n",
    "    model.fit(x_train,y_train)\n",
    "    y_pred = model.predict(x_test)\n",
    "    print(model.__class__.__name__)\n",
    "    print(classification_report(y_test,y_pred))\n",
    "    print(\"-------------------------------------------------------\")\n",
    "    print(\" \")"
   ]
  },
  {
   "cell_type": "markdown",
   "id": "5a59782d-1fa0-457c-9921-e590ddb736f6",
   "metadata": {},
   "source": [
    "#### Confusion Matrix"
   ]
  },
  {
   "cell_type": "code",
   "execution_count": 82,
   "id": "3ea537e0-915b-418d-9de0-b905cbf0b999",
   "metadata": {},
   "outputs": [],
   "source": [
    "from sklearn.metrics import confusion_matrix"
   ]
  },
  {
   "cell_type": "code",
   "execution_count": 83,
   "id": "ad288b49-2b74-400b-bcc8-75c9719fd921",
   "metadata": {},
   "outputs": [
    {
     "name": "stdout",
     "output_type": "stream",
     "text": [
      "LogisticRegression\n"
     ]
    },
    {
     "data": {
      "image/png": "[encoded data removed]",
      "text/plain": [
       "<Figure size 640x480 with 2 Axes>"
      ]
     },
     "metadata": {},
     "output_type": "display_data"
    },
    {
     "name": "stdout",
     "output_type": "stream",
     "text": [
      "-------------------------------------------------------\n",
      " \n",
      "DecisionTreeClassifier\n"
     ]
    },
    {
     "data": {
      "image/png": "[encoded data removed]",
      "text/plain": [
       "<Figure size 640x480 with 2 Axes>"
      ]
     },
     "metadata": {},
     "output_type": "display_data"
    },
    {
     "name": "stdout",
     "output_type": "stream",
     "text": [
      "-------------------------------------------------------\n",
      " \n",
      "RandomForestClassifier\n"
     ]
    },
    {
     "data": {
      "image/png": "[encoded data removed]",
      "text/plain": [
       "<Figure size 640x480 with 2 Axes>"
      ]
     },
     "metadata": {},
     "output_type": "display_data"
    },
    {
     "name": "stdout",
     "output_type": "stream",
     "text": [
      "-------------------------------------------------------\n",
      " \n",
      "KNeighborsClassifier\n"
     ]
    },
    {
     "data": {
      "image/png": "[encoded data removed]",
      "text/plain": [
       "<Figure size 640x480 with 2 Axes>"
      ]
     },
     "metadata": {},
     "output_type": "display_data"
    },
    {
     "name": "stdout",
     "output_type": "stream",
     "text": [
      "-------------------------------------------------------\n",
      " \n",
      "SVC\n"
     ]
    },
    {
     "data": {
      "image/png": "[encoded data removed]",
      "text/plain": [
       "<Figure size 640x480 with 2 Axes>"
      ]
     },
     "metadata": {},
     "output_type": "display_data"
    },
    {
     "name": "stdout",
     "output_type": "stream",
     "text": [
      "-------------------------------------------------------\n",
      " \n",
      "GaussianNB\n"
     ]
    },
    {
     "data": {
      "image/png": "[encoded data removed]",
      "text/plain": [
       "<Figure size 640x480 with 2 Axes>"
      ]
     },
     "metadata": {},
     "output_type": "display_data"
    },
    {
     "name": "stdout",
     "output_type": "stream",
     "text": [
      "-------------------------------------------------------\n",
      " \n"
     ]
    }
   ],
   "source": [
    "for model in models:\n",
    "    model.fit(x_train,y_train)\n",
    "    y_pred = model.predict(x_test)\n",
    "    print(model.__class__.__name__)\n",
    "    cm = confusion_matrix(y_test,y_pred)\n",
    "    sns.heatmap(cm, annot=True, fmt= \" \")\n",
    "    plt.title('Confusion Matrix')\n",
    "    plt.xlabel('Predicted')\n",
    "    plt.ylabel('Actual')\n",
    "    plt.show()\n",
    "    print(\"-------------------------------------------------------\")\n",
    "    print(\" \")"
   ]
  },
  {
   "cell_type": "markdown",
   "id": "cc7e9bae-fb0b-4d79-bd88-51ad638fc2d1",
   "metadata": {},
   "source": [
    "### Cross Validation"
   ]
  },
  {
   "cell_type": "code",
   "execution_count": 85,
   "id": "3b16ebbb-be4d-49c7-a060-1e816ec802e2",
   "metadata": {},
   "outputs": [],
   "source": [
    "from sklearn.model_selection import cross_val_score"
   ]
  },
  {
   "cell_type": "code",
   "execution_count": 86,
   "id": "c956c2cb-d6aa-4050-afec-9f8fab2e7b5c",
   "metadata": {},
   "outputs": [
    {
     "name": "stdout",
     "output_type": "stream",
     "text": [
      "LogisticRegression's Cross Validation Accuracy is = 89.59%\n",
      "-------------------------------------------------------\n",
      "DecisionTreeClassifier's Cross Validation Accuracy is = 100.0%\n",
      "-------------------------------------------------------\n",
      "RandomForestClassifier's Cross Validation Accuracy is = 99.84%\n",
      "-------------------------------------------------------\n",
      "KNeighborsClassifier's Cross Validation Accuracy is = 92.59%\n",
      "-------------------------------------------------------\n",
      "SVC's Cross Validation Accuracy is = 81.7%\n",
      "-------------------------------------------------------\n",
      "GaussianNB's Cross Validation Accuracy is = 96.06%\n",
      "-------------------------------------------------------\n",
      "CPU times: total: 1.94 s\n",
      "Wall time: 1.04 s\n"
     ]
    }
   ],
   "source": [
    "%%time\n",
    "for model in models:\n",
    "    acc_ls =  cross_val_score(model,x,y, scoring='accuracy', cv=5)\n",
    "    mean_acc = round(acc_ls.mean()*100,2)\n",
    "    modelname = model.__class__.__name__\n",
    "    print(f\"{modelname}'s Cross Validation Accuracy is = {mean_acc}%\")\n",
    "    print(\"-------------------------------------------------------\")"
   ]
  },
  {
   "cell_type": "markdown",
   "id": "474e5ea9-5cd9-4c88-bcd3-71429981e654",
   "metadata": {},
   "source": [
    "The accuracy of the Random Forest Regressor is 99.84%, which shows that the model is already performing very well. Tuning the hyperparameters further may lead to overfitting."
   ]
  },
  {
   "cell_type": "markdown",
   "id": "77a7acb7-3fd0-44d9-ac9a-3d671011836d",
   "metadata": {},
   "source": [
    "## Customizing Prediction"
   ]
  },
  {
   "cell_type": "code",
   "execution_count": 89,
   "id": "29993783-4ea9-452e-aa0e-32caf6bc86ea",
   "metadata": {},
   "outputs": [
    {
     "data": {
      "text/html": [
       "<div>\n",
       "<style scoped>\n",
       "    .dataframe tbody tr th:only-of-type {\n",
       "        vertical-align: middle;\n",
       "    }\n",
       "\n",
       "    .dataframe tbody tr th {\n",
       "        vertical-align: top;\n",
       "    }\n",
       "\n",
       "    .dataframe thead th {\n",
       "        text-align: right;\n",
       "    }\n",
       "</style>\n",
       "<table border=\"1\" class=\"dataframe\">\n",
       "  <thead>\n",
       "    <tr style=\"text-align: right;\">\n",
       "      <th></th>\n",
       "      <th>Temperature</th>\n",
       "      <th>Humidity</th>\n",
       "      <th>Wind_Speed</th>\n",
       "      <th>Cloud_Cover</th>\n",
       "      <th>Pressure</th>\n",
       "      <th>Rain</th>\n",
       "    </tr>\n",
       "  </thead>\n",
       "  <tbody>\n",
       "    <tr>\n",
       "      <th>0</th>\n",
       "      <td>23.720338</td>\n",
       "      <td>89.592641</td>\n",
       "      <td>7.335604</td>\n",
       "      <td>50.501694</td>\n",
       "      <td>1032.378759</td>\n",
       "      <td>rain</td>\n",
       "    </tr>\n",
       "  </tbody>\n",
       "</table>\n",
       "</div>"
      ],
      "text/plain": [
       "   Temperature   Humidity  Wind_Speed  Cloud_Cover     Pressure  Rain\n",
       "0    23.720338  89.592641    7.335604    50.501694  1032.378759  rain"
      ]
     },
     "execution_count": 89,
     "metadata": {},
     "output_type": "execute_result"
    }
   ],
   "source": [
    "rain_data.head(1)"
   ]
  },
  {
   "cell_type": "code",
   "execution_count": 90,
   "id": "82dfb113-6848-4ab0-9686-2c633af4b840",
   "metadata": {},
   "outputs": [],
   "source": [
    "def predict_machine_status(model, scaler, num_col):\n",
    "    temp = float(input(\"Enter the Temperature = \"))\n",
    "    hum = float(input(\"Enter the Humidity = \"))\n",
    "    ws = float(input(\"Enter the Wind Speed = \"))\n",
    "    CC = float(input(\"Enter the Cloud Cover = \"))\n",
    "    press = float(input(\"Enter the pressure = \"))\n",
    "\n",
    "    input_data = {\n",
    "        \"Temperature\": [temp],\n",
    "        \"Humidity\": [hum],\n",
    "        \"Wind_Speed\": [ws],\n",
    "        \"Cloud_Cover\": [CC],\n",
    "        \"Pressure\": [press]\n",
    "    }\n",
    "    \n",
    "    input_df = pd.DataFrame(input_data)\n",
    "    input_df[num_col] = scaler.transform(input_df[num_col])\n",
    "\n",
    "    input_for_prediction = input_df.values.reshape(1, -1)\n",
    "    prediction = model.predict(input_for_prediction)\n",
    "    \n",
    "    if prediction[0] == 1:\n",
    "        return \"There will be Rain\"\n",
    "    else:\n",
    "        return \"There won't be Rain\""
   ]
  },
  {
   "cell_type": "markdown",
   "id": "02765775-88bf-46a0-ba47-0a3bf12d3622",
   "metadata": {},
   "source": [
    "#### Test Case - 1 "
   ]
  },
  {
   "cell_type": "code",
   "execution_count": 92,
   "id": "fe91741b-b1e6-4ccc-8361-3e6b7d881f0c",
   "metadata": {},
   "outputs": [
    {
     "name": "stdin",
     "output_type": "stream",
     "text": [
      "Enter the Temperature =  19.9\n",
      "Enter the Humidity =  41.26\n",
      "Enter the Wind Speed =  3.59\n",
      "Enter the Cloud Cover =  98.1\n",
      "Enter the pressure =  989\n"
     ]
    },
    {
     "name": "stdout",
     "output_type": "stream",
     "text": [
      "-------------------------------------- \n",
      "There won't be Rain\n"
     ]
    }
   ],
   "source": [
    "result = predict_machine_status(rf_model, scaler, num_col)\n",
    "print(\"-------------------------------------- \")\n",
    "print(result)"
   ]
  },
  {
   "cell_type": "markdown",
   "id": "92daa4db-81f0-4410-9902-dde261d4cd32",
   "metadata": {},
   "source": [
    "#### Test Case - 2"
   ]
  },
  {
   "cell_type": "code",
   "execution_count": 171,
   "id": "374007d4-9c52-4816-830b-d5f1e3dd7aa6",
   "metadata": {},
   "outputs": [
    {
     "name": "stdin",
     "output_type": "stream",
     "text": [
      "Enter the Temperature =  23.22\n",
      "Enter the Humidity =  76.87\n",
      "Enter the Wind Speed =  15.82\n",
      "Enter the Cloud Cover =  72.86\n",
      "Enter the pressure =  980.10\n"
     ]
    },
    {
     "name": "stdout",
     "output_type": "stream",
     "text": [
      "-------------------------------------- \n",
      "There will be Rain\n"
     ]
    }
   ],
   "source": [
    "result = predict_machine_status(rf_model, scaler, num_col)\n",
    "print(\"-------------------------------------- \")\n",
    "print(result)"
   ]
  },
  {
   "cell_type": "markdown",
   "id": "068a8a47-90f3-42fd-84bf-e4d0a85c06e9",
   "metadata": {},
   "source": [
    "#### Test Case - 3"
   ]
  },
  {
   "cell_type": "code",
   "execution_count": 96,
   "id": "07bea7da-665b-47e0-950d-dfeb7d31f1e8",
   "metadata": {},
   "outputs": [
    {
     "name": "stdin",
     "output_type": "stream",
     "text": [
      "Enter the Temperature =  25.44\n",
      "Enter the Humidity =  99.53\n",
      "Enter the Wind Speed =  4.1\n",
      "Enter the Cloud Cover =  92.73\n",
      "Enter the pressure =  1042\n"
     ]
    },
    {
     "name": "stdout",
     "output_type": "stream",
     "text": [
      "-------------------------------------- \n",
      "There won't be Rain\n"
     ]
    }
   ],
   "source": [
    "result = predict_machine_status(rf_model, scaler, num_col)\n",
    "print(\"-------------------------------------- \")\n",
    "print(result)"
   ]
  },
  {
   "cell_type": "markdown",
   "id": "0f80ec51-922b-44b2-8f70-7f2f11cc99c8",
   "metadata": {},
   "source": [
    "#### Test Case - 4"
   ]
  },
  {
   "cell_type": "code",
   "execution_count": 98,
   "id": "dd682c18-47a7-4893-97da-e1d70adf6199",
   "metadata": {},
   "outputs": [
    {
     "name": "stdin",
     "output_type": "stream",
     "text": [
      "Enter the Temperature =  10.5\n",
      "Enter the Humidity =  75.45\n",
      "Enter the Wind Speed =  14.79\n",
      "Enter the Cloud Cover =  99.14\n",
      "Enter the pressure =  1011.57\n"
     ]
    },
    {
     "name": "stdout",
     "output_type": "stream",
     "text": [
      "-------------------------------------- \n",
      "There will be Rain\n"
     ]
    }
   ],
   "source": [
    "result = predict_machine_status(rf_model, scaler, num_col)\n",
    "print(\"-------------------------------------- \")\n",
    "print(result)"
   ]
  },
  {
   "cell_type": "markdown",
   "id": "65560d9d-5946-4c56-9190-ad907390a678",
   "metadata": {},
   "source": [
    "#### Test Case - 5"
   ]
  },
  {
   "cell_type": "code",
   "execution_count": 100,
   "id": "40147a1f-4ff5-49c8-ae4c-d7dd4b8c2966",
   "metadata": {},
   "outputs": [
    {
     "name": "stdin",
     "output_type": "stream",
     "text": [
      "Enter the Temperature =  23.36\n",
      "Enter the Humidity =  93.36\n",
      "Enter the Wind Speed =  7.1\n",
      "Enter the Cloud Cover =  78.8\n",
      "Enter the pressure =  1042.9\n"
     ]
    },
    {
     "name": "stdout",
     "output_type": "stream",
     "text": [
      "-------------------------------------- \n",
      "There will be Rain\n"
     ]
    }
   ],
   "source": [
    "result = predict_machine_status(rf_model, scaler, num_col)\n",
    "print(\"-------------------------------------- \")\n",
    "print(result)"
   ]
  },
  {
   "cell_type": "markdown",
   "id": "650756e1-d218-4e05-b290-e0ce6cdb820a",
   "metadata": {},
   "source": [
    "---"
   ]
  }
 ],
 "metadata": {
  "kernelspec": {
   "display_name": "Python 3 (ipykernel)",
   "language": "python",
   "name": "python3"
  },
  "language_info": {
   "codemirror_mode": {
    "name": "ipython",
    "version": 3
   },
   "file_extension": ".py",
   "mimetype": "text/x-python",
   "name": "python",
   "nbconvert_exporter": "python",
   "pygments_lexer": "ipython3",
   "version": "3.12.3"
  }
 },
 "nbformat": 4,
 "nbformat_minor": 5
}
